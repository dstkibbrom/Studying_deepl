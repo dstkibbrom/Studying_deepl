{
 "cells": [
  {
   "cell_type": "code",
   "execution_count": 33,
   "metadata": {
    "collapsed": true
   },
   "outputs": [],
   "source": [
    "import numpy as np\n",
    "import random\n",
    "import tensorflow as tf\n",
    "from d2l import tensorflow as d2l"
   ]
  },
  {
   "cell_type": "code",
   "execution_count": 34,
   "outputs": [],
   "source": [
    "def synthetic_data(w, b, num_examples):  #@save\n",
    "    \"\"\"Generate y = Xw + b + noise.\"\"\"\n",
    "    X = tf.zeros((num_examples, w.shape[0]))\n",
    "    # print(X)\n",
    "    X += tf.random.normal(shape=X.shape)\n",
    "    # print(X)\n",
    "    y = tf.matmul(X, tf.reshape(w, (-1, 1))) + b\n",
    "    y += tf.random.normal(shape=y.shape, stddev=0.01)\n",
    "    y = tf.reshape(y, (-1, 1))\n",
    "    return X, y\n",
    "\n",
    "true_w = tf.constant([2, -3.4])\n",
    "true_b = 4.2\n",
    "features, labels = synthetic_data(true_w, true_b, 1000)"
   ],
   "metadata": {
    "collapsed": false,
    "pycharm": {
     "name": "#%%\n"
    }
   }
  },
  {
   "cell_type": "code",
   "execution_count": 35,
   "outputs": [
    {
     "name": "stdout",
     "output_type": "stream",
     "text": [
      "features: tf.Tensor([ 0.38065127 -0.19942117], shape=(2,), dtype=float32) \n",
      "label: tf.Tensor([5.628704], shape=(1,), dtype=float32)\n"
     ]
    }
   ],
   "source": [
    "\n",
    "print('features:', features[0], '\\nlabel:', labels[0])"
   ],
   "metadata": {
    "collapsed": false,
    "pycharm": {
     "name": "#%%\n"
    }
   }
  },
  {
   "cell_type": "code",
   "execution_count": 36,
   "outputs": [
    {
     "data": {
      "text/plain": "<Figure size 252x180 with 1 Axes>",
      "image/svg+xml": "<?xml version=\"1.0\" encoding=\"utf-8\" standalone=\"no\"?>\n<!DOCTYPE svg PUBLIC \"-//W3C//DTD SVG 1.1//EN\"\n  \"http://www.w3.org/Graphics/SVG/1.1/DTD/svg11.dtd\">\n<svg height=\"166.978125pt\" version=\"1.1\" viewBox=\"0 0 229.425 166.978125\" width=\"229.425pt\" xmlns=\"http://www.w3.org/2000/svg\" xmlns:xlink=\"http://www.w3.org/1999/xlink\">\n <metadata>\n  <rdf:RDF xmlns:cc=\"http://creativecommons.org/ns#\" xmlns:dc=\"http://purl.org/dc/elements/1.1/\" xmlns:rdf=\"http://www.w3.org/1999/02/22-rdf-syntax-ns#\">\n   <cc:Work>\n    <dc:type rdf:resource=\"http://purl.org/dc/dcmitype/StillImage\"/>\n    <dc:date>2021-11-12T16:47:19.555164</dc:date>\n    <dc:format>image/svg+xml</dc:format>\n    <dc:creator>\n     <cc:Agent>\n      <dc:title>Matplotlib v3.4.2, https://matplotlib.org/</dc:title>\n     </cc:Agent>\n    </dc:creator>\n   </cc:Work>\n  </rdf:RDF>\n </metadata>\n <defs>\n  <style type=\"text/css\">*{stroke-linecap:butt;stroke-linejoin:round;}</style>\n </defs>\n <g id=\"figure_1\">\n  <g id=\"patch_1\">\n   <path d=\"M 0 166.978125 \nL 229.425 166.978125 \nL 229.425 0 \nL 0 0 \nz\n\" style=\"fill:none;\"/>\n  </g>\n  <g id=\"axes_1\">\n   <g id=\"patch_2\">\n    <path d=\"M 26.925 143.1 \nL 222.225 143.1 \nL 222.225 7.2 \nL 26.925 7.2 \nz\n\" style=\"fill:#ffffff;\"/>\n   </g>\n   <g id=\"PathCollection_1\">\n    <defs>\n     <path d=\"M 0 0.5 \nC 0.132602 0.5 0.25979 0.447317 0.353553 0.353553 \nC 0.447317 0.25979 0.5 0.132602 0.5 0 \nC 0.5 -0.132602 0.447317 -0.25979 0.353553 -0.353553 \nC 0.25979 -0.447317 0.132602 -0.5 0 -0.5 \nC -0.132602 -0.5 -0.25979 -0.447317 -0.353553 -0.353553 \nC -0.447317 -0.25979 -0.5 -0.132602 -0.5 0 \nC -0.5 0.132602 -0.447317 0.25979 -0.353553 0.353553 \nC -0.25979 0.447317 -0.132602 0.5 0 0.5 \nz\n\" id=\"me2bf919314\" style=\"stroke:#1f77b4;\"/>\n    </defs>\n    <g clip-path=\"url(#p35f8adfd68)\">\n     <use style=\"fill:#1f77b4;stroke:#1f77b4;\" x=\"124.349732\" xlink:href=\"#me2bf919314\" y=\"76.976188\"/>\n     <use style=\"fill:#1f77b4;stroke:#1f77b4;\" x=\"177.505459\" xlink:href=\"#me2bf919314\" y=\"104.372301\"/>\n     <use style=\"fill:#1f77b4;stroke:#1f77b4;\" x=\"73.213391\" xlink:href=\"#me2bf919314\" y=\"43.116413\"/>\n     <use style=\"fill:#1f77b4;stroke:#1f77b4;\" x=\"131.696031\" xlink:href=\"#me2bf919314\" y=\"65.909241\"/>\n     <use style=\"fill:#1f77b4;stroke:#1f77b4;\" x=\"144.395989\" xlink:href=\"#me2bf919314\" y=\"79.000417\"/>\n     <use style=\"fill:#1f77b4;stroke:#1f77b4;\" x=\"129.886518\" xlink:href=\"#me2bf919314\" y=\"73.802912\"/>\n     <use style=\"fill:#1f77b4;stroke:#1f77b4;\" x=\"89.008362\" xlink:href=\"#me2bf919314\" y=\"49.046833\"/>\n     <use style=\"fill:#1f77b4;stroke:#1f77b4;\" x=\"129.277204\" xlink:href=\"#me2bf919314\" y=\"95.985486\"/>\n     <use style=\"fill:#1f77b4;stroke:#1f77b4;\" x=\"161.615345\" xlink:href=\"#me2bf919314\" y=\"94.704824\"/>\n     <use style=\"fill:#1f77b4;stroke:#1f77b4;\" x=\"120.170981\" xlink:href=\"#me2bf919314\" y=\"72.223821\"/>\n     <use style=\"fill:#1f77b4;stroke:#1f77b4;\" x=\"142.720426\" xlink:href=\"#me2bf919314\" y=\"116.375648\"/>\n     <use style=\"fill:#1f77b4;stroke:#1f77b4;\" x=\"78.551024\" xlink:href=\"#me2bf919314\" y=\"65.587018\"/>\n     <use style=\"fill:#1f77b4;stroke:#1f77b4;\" x=\"202.489375\" xlink:href=\"#me2bf919314\" y=\"127.639978\"/>\n     <use style=\"fill:#1f77b4;stroke:#1f77b4;\" x=\"175.631757\" xlink:href=\"#me2bf919314\" y=\"105.588976\"/>\n     <use style=\"fill:#1f77b4;stroke:#1f77b4;\" x=\"135.542382\" xlink:href=\"#me2bf919314\" y=\"75.674467\"/>\n     <use style=\"fill:#1f77b4;stroke:#1f77b4;\" x=\"117.365947\" xlink:href=\"#me2bf919314\" y=\"75.056575\"/>\n     <use style=\"fill:#1f77b4;stroke:#1f77b4;\" x=\"112.949485\" xlink:href=\"#me2bf919314\" y=\"80.590647\"/>\n     <use style=\"fill:#1f77b4;stroke:#1f77b4;\" x=\"97.809149\" xlink:href=\"#me2bf919314\" y=\"72.169059\"/>\n     <use style=\"fill:#1f77b4;stroke:#1f77b4;\" x=\"135.343684\" xlink:href=\"#me2bf919314\" y=\"92.496268\"/>\n     <use style=\"fill:#1f77b4;stroke:#1f77b4;\" x=\"97.423907\" xlink:href=\"#me2bf919314\" y=\"77.824978\"/>\n     <use style=\"fill:#1f77b4;stroke:#1f77b4;\" x=\"156.168996\" xlink:href=\"#me2bf919314\" y=\"95.648224\"/>\n     <use style=\"fill:#1f77b4;stroke:#1f77b4;\" x=\"101.33203\" xlink:href=\"#me2bf919314\" y=\"64.452699\"/>\n     <use style=\"fill:#1f77b4;stroke:#1f77b4;\" x=\"159.095781\" xlink:href=\"#me2bf919314\" y=\"104.271907\"/>\n     <use style=\"fill:#1f77b4;stroke:#1f77b4;\" x=\"148.803138\" xlink:href=\"#me2bf919314\" y=\"98.052735\"/>\n     <use style=\"fill:#1f77b4;stroke:#1f77b4;\" x=\"119.917381\" xlink:href=\"#me2bf919314\" y=\"85.904465\"/>\n     <use style=\"fill:#1f77b4;stroke:#1f77b4;\" x=\"122.951144\" xlink:href=\"#me2bf919314\" y=\"76.420728\"/>\n     <use style=\"fill:#1f77b4;stroke:#1f77b4;\" x=\"145.021206\" xlink:href=\"#me2bf919314\" y=\"80.146922\"/>\n     <use style=\"fill:#1f77b4;stroke:#1f77b4;\" x=\"163.917562\" xlink:href=\"#me2bf919314\" y=\"97.283026\"/>\n     <use style=\"fill:#1f77b4;stroke:#1f77b4;\" x=\"146.052825\" xlink:href=\"#me2bf919314\" y=\"90.041839\"/>\n     <use style=\"fill:#1f77b4;stroke:#1f77b4;\" x=\"152.452452\" xlink:href=\"#me2bf919314\" y=\"92.125913\"/>\n     <use style=\"fill:#1f77b4;stroke:#1f77b4;\" x=\"158.844299\" xlink:href=\"#me2bf919314\" y=\"107.663576\"/>\n     <use style=\"fill:#1f77b4;stroke:#1f77b4;\" x=\"191.815089\" xlink:href=\"#me2bf919314\" y=\"105.724024\"/>\n     <use style=\"fill:#1f77b4;stroke:#1f77b4;\" x=\"126.312419\" xlink:href=\"#me2bf919314\" y=\"67.978398\"/>\n     <use style=\"fill:#1f77b4;stroke:#1f77b4;\" x=\"153.742243\" xlink:href=\"#me2bf919314\" y=\"95.352882\"/>\n     <use style=\"fill:#1f77b4;stroke:#1f77b4;\" x=\"188.046078\" xlink:href=\"#me2bf919314\" y=\"100.222621\"/>\n     <use style=\"fill:#1f77b4;stroke:#1f77b4;\" x=\"134.752567\" xlink:href=\"#me2bf919314\" y=\"83.827704\"/>\n     <use style=\"fill:#1f77b4;stroke:#1f77b4;\" x=\"187.85066\" xlink:href=\"#me2bf919314\" y=\"115.653382\"/>\n     <use style=\"fill:#1f77b4;stroke:#1f77b4;\" x=\"144.763467\" xlink:href=\"#me2bf919314\" y=\"84.257809\"/>\n     <use style=\"fill:#1f77b4;stroke:#1f77b4;\" x=\"178.062489\" xlink:href=\"#me2bf919314\" y=\"124.023274\"/>\n     <use style=\"fill:#1f77b4;stroke:#1f77b4;\" x=\"108.61239\" xlink:href=\"#me2bf919314\" y=\"75.559137\"/>\n     <use style=\"fill:#1f77b4;stroke:#1f77b4;\" x=\"164.328722\" xlink:href=\"#me2bf919314\" y=\"106.642255\"/>\n     <use style=\"fill:#1f77b4;stroke:#1f77b4;\" x=\"175.178826\" xlink:href=\"#me2bf919314\" y=\"107.03003\"/>\n     <use style=\"fill:#1f77b4;stroke:#1f77b4;\" x=\"156.014772\" xlink:href=\"#me2bf919314\" y=\"98.011757\"/>\n     <use style=\"fill:#1f77b4;stroke:#1f77b4;\" x=\"130.182681\" xlink:href=\"#me2bf919314\" y=\"79.075152\"/>\n     <use style=\"fill:#1f77b4;stroke:#1f77b4;\" x=\"128.003149\" xlink:href=\"#me2bf919314\" y=\"94.734376\"/>\n     <use style=\"fill:#1f77b4;stroke:#1f77b4;\" x=\"144.581091\" xlink:href=\"#me2bf919314\" y=\"78.597924\"/>\n     <use style=\"fill:#1f77b4;stroke:#1f77b4;\" x=\"92.205387\" xlink:href=\"#me2bf919314\" y=\"65.059713\"/>\n     <use style=\"fill:#1f77b4;stroke:#1f77b4;\" x=\"135.978307\" xlink:href=\"#me2bf919314\" y=\"81.125766\"/>\n     <use style=\"fill:#1f77b4;stroke:#1f77b4;\" x=\"167.914948\" xlink:href=\"#me2bf919314\" y=\"96.686785\"/>\n     <use style=\"fill:#1f77b4;stroke:#1f77b4;\" x=\"145.452669\" xlink:href=\"#me2bf919314\" y=\"85.620007\"/>\n     <use style=\"fill:#1f77b4;stroke:#1f77b4;\" x=\"144.060453\" xlink:href=\"#me2bf919314\" y=\"82.984404\"/>\n     <use style=\"fill:#1f77b4;stroke:#1f77b4;\" x=\"79.971252\" xlink:href=\"#me2bf919314\" y=\"72.092892\"/>\n     <use style=\"fill:#1f77b4;stroke:#1f77b4;\" x=\"161.956578\" xlink:href=\"#me2bf919314\" y=\"98.833439\"/>\n     <use style=\"fill:#1f77b4;stroke:#1f77b4;\" x=\"173.12879\" xlink:href=\"#me2bf919314\" y=\"104.272234\"/>\n     <use style=\"fill:#1f77b4;stroke:#1f77b4;\" x=\"148.96819\" xlink:href=\"#me2bf919314\" y=\"95.067543\"/>\n     <use style=\"fill:#1f77b4;stroke:#1f77b4;\" x=\"145.216127\" xlink:href=\"#me2bf919314\" y=\"93.094243\"/>\n     <use style=\"fill:#1f77b4;stroke:#1f77b4;\" x=\"105.522951\" xlink:href=\"#me2bf919314\" y=\"77.614664\"/>\n     <use style=\"fill:#1f77b4;stroke:#1f77b4;\" x=\"147.847261\" xlink:href=\"#me2bf919314\" y=\"94.254376\"/>\n     <use style=\"fill:#1f77b4;stroke:#1f77b4;\" x=\"120.714793\" xlink:href=\"#me2bf919314\" y=\"88.53432\"/>\n     <use style=\"fill:#1f77b4;stroke:#1f77b4;\" x=\"115.438344\" xlink:href=\"#me2bf919314\" y=\"73.209246\"/>\n     <use style=\"fill:#1f77b4;stroke:#1f77b4;\" x=\"177.587736\" xlink:href=\"#me2bf919314\" y=\"110.436306\"/>\n     <use style=\"fill:#1f77b4;stroke:#1f77b4;\" x=\"121.300688\" xlink:href=\"#me2bf919314\" y=\"69.749323\"/>\n     <use style=\"fill:#1f77b4;stroke:#1f77b4;\" x=\"181.554427\" xlink:href=\"#me2bf919314\" y=\"115.316282\"/>\n     <use style=\"fill:#1f77b4;stroke:#1f77b4;\" x=\"170.265357\" xlink:href=\"#me2bf919314\" y=\"90.296822\"/>\n     <use style=\"fill:#1f77b4;stroke:#1f77b4;\" x=\"85.435558\" xlink:href=\"#me2bf919314\" y=\"47.675141\"/>\n     <use style=\"fill:#1f77b4;stroke:#1f77b4;\" x=\"119.336406\" xlink:href=\"#me2bf919314\" y=\"70.883445\"/>\n     <use style=\"fill:#1f77b4;stroke:#1f77b4;\" x=\"125.331923\" xlink:href=\"#me2bf919314\" y=\"89.70099\"/>\n     <use style=\"fill:#1f77b4;stroke:#1f77b4;\" x=\"127.985613\" xlink:href=\"#me2bf919314\" y=\"79.059078\"/>\n     <use style=\"fill:#1f77b4;stroke:#1f77b4;\" x=\"149.738756\" xlink:href=\"#me2bf919314\" y=\"88.816583\"/>\n     <use style=\"fill:#1f77b4;stroke:#1f77b4;\" x=\"130.151677\" xlink:href=\"#me2bf919314\" y=\"87.531824\"/>\n     <use style=\"fill:#1f77b4;stroke:#1f77b4;\" x=\"76.888485\" xlink:href=\"#me2bf919314\" y=\"68.251841\"/>\n     <use style=\"fill:#1f77b4;stroke:#1f77b4;\" x=\"86.815801\" xlink:href=\"#me2bf919314\" y=\"66.376182\"/>\n     <use style=\"fill:#1f77b4;stroke:#1f77b4;\" x=\"145.745392\" xlink:href=\"#me2bf919314\" y=\"79.506823\"/>\n     <use style=\"fill:#1f77b4;stroke:#1f77b4;\" x=\"144.850929\" xlink:href=\"#me2bf919314\" y=\"96.964487\"/>\n     <use style=\"fill:#1f77b4;stroke:#1f77b4;\" x=\"112.640309\" xlink:href=\"#me2bf919314\" y=\"62.837669\"/>\n     <use style=\"fill:#1f77b4;stroke:#1f77b4;\" x=\"106.628922\" xlink:href=\"#me2bf919314\" y=\"40.03298\"/>\n     <use style=\"fill:#1f77b4;stroke:#1f77b4;\" x=\"117.258282\" xlink:href=\"#me2bf919314\" y=\"75.036293\"/>\n     <use style=\"fill:#1f77b4;stroke:#1f77b4;\" x=\"92.56718\" xlink:href=\"#me2bf919314\" y=\"67.587605\"/>\n     <use style=\"fill:#1f77b4;stroke:#1f77b4;\" x=\"206.559931\" xlink:href=\"#me2bf919314\" y=\"127.118499\"/>\n     <use style=\"fill:#1f77b4;stroke:#1f77b4;\" x=\"109.393506\" xlink:href=\"#me2bf919314\" y=\"73.623323\"/>\n     <use style=\"fill:#1f77b4;stroke:#1f77b4;\" x=\"158.618133\" xlink:href=\"#me2bf919314\" y=\"94.244851\"/>\n     <use style=\"fill:#1f77b4;stroke:#1f77b4;\" x=\"177.626774\" xlink:href=\"#me2bf919314\" y=\"106.697513\"/>\n     <use style=\"fill:#1f77b4;stroke:#1f77b4;\" x=\"102.545257\" xlink:href=\"#me2bf919314\" y=\"72.049491\"/>\n     <use style=\"fill:#1f77b4;stroke:#1f77b4;\" x=\"133.982356\" xlink:href=\"#me2bf919314\" y=\"72.963122\"/>\n     <use style=\"fill:#1f77b4;stroke:#1f77b4;\" x=\"181.610076\" xlink:href=\"#me2bf919314\" y=\"119.456216\"/>\n     <use style=\"fill:#1f77b4;stroke:#1f77b4;\" x=\"162.614383\" xlink:href=\"#me2bf919314\" y=\"86.278329\"/>\n     <use style=\"fill:#1f77b4;stroke:#1f77b4;\" x=\"110.478378\" xlink:href=\"#me2bf919314\" y=\"72.255425\"/>\n     <use style=\"fill:#1f77b4;stroke:#1f77b4;\" x=\"118.375892\" xlink:href=\"#me2bf919314\" y=\"75.13941\"/>\n     <use style=\"fill:#1f77b4;stroke:#1f77b4;\" x=\"141.912014\" xlink:href=\"#me2bf919314\" y=\"84.415445\"/>\n     <use style=\"fill:#1f77b4;stroke:#1f77b4;\" x=\"77.315613\" xlink:href=\"#me2bf919314\" y=\"59.128469\"/>\n     <use style=\"fill:#1f77b4;stroke:#1f77b4;\" x=\"85.69259\" xlink:href=\"#me2bf919314\" y=\"61.996923\"/>\n     <use style=\"fill:#1f77b4;stroke:#1f77b4;\" x=\"112.88391\" xlink:href=\"#me2bf919314\" y=\"61.545156\"/>\n     <use style=\"fill:#1f77b4;stroke:#1f77b4;\" x=\"138.050651\" xlink:href=\"#me2bf919314\" y=\"102.350986\"/>\n     <use style=\"fill:#1f77b4;stroke:#1f77b4;\" x=\"138.268485\" xlink:href=\"#me2bf919314\" y=\"90.638038\"/>\n     <use style=\"fill:#1f77b4;stroke:#1f77b4;\" x=\"127.026433\" xlink:href=\"#me2bf919314\" y=\"89.050234\"/>\n     <use style=\"fill:#1f77b4;stroke:#1f77b4;\" x=\"160.988637\" xlink:href=\"#me2bf919314\" y=\"110.884884\"/>\n     <use style=\"fill:#1f77b4;stroke:#1f77b4;\" x=\"160.098352\" xlink:href=\"#me2bf919314\" y=\"92.030432\"/>\n     <use style=\"fill:#1f77b4;stroke:#1f77b4;\" x=\"94.268291\" xlink:href=\"#me2bf919314\" y=\"73.295327\"/>\n     <use style=\"fill:#1f77b4;stroke:#1f77b4;\" x=\"138.399986\" xlink:href=\"#me2bf919314\" y=\"87.694587\"/>\n     <use style=\"fill:#1f77b4;stroke:#1f77b4;\" x=\"115.54284\" xlink:href=\"#me2bf919314\" y=\"72.914432\"/>\n     <use style=\"fill:#1f77b4;stroke:#1f77b4;\" x=\"161.189805\" xlink:href=\"#me2bf919314\" y=\"95.608689\"/>\n     <use style=\"fill:#1f77b4;stroke:#1f77b4;\" x=\"147.698668\" xlink:href=\"#me2bf919314\" y=\"94.946768\"/>\n     <use style=\"fill:#1f77b4;stroke:#1f77b4;\" x=\"114.942451\" xlink:href=\"#me2bf919314\" y=\"66.998299\"/>\n     <use style=\"fill:#1f77b4;stroke:#1f77b4;\" x=\"151.319952\" xlink:href=\"#me2bf919314\" y=\"83.533829\"/>\n     <use style=\"fill:#1f77b4;stroke:#1f77b4;\" x=\"119.754426\" xlink:href=\"#me2bf919314\" y=\"57.38983\"/>\n     <use style=\"fill:#1f77b4;stroke:#1f77b4;\" x=\"104.04116\" xlink:href=\"#me2bf919314\" y=\"62.689949\"/>\n     <use style=\"fill:#1f77b4;stroke:#1f77b4;\" x=\"130.788106\" xlink:href=\"#me2bf919314\" y=\"94.895526\"/>\n     <use style=\"fill:#1f77b4;stroke:#1f77b4;\" x=\"137.325937\" xlink:href=\"#me2bf919314\" y=\"80.374632\"/>\n     <use style=\"fill:#1f77b4;stroke:#1f77b4;\" x=\"98.7477\" xlink:href=\"#me2bf919314\" y=\"52.814964\"/>\n     <use style=\"fill:#1f77b4;stroke:#1f77b4;\" x=\"124.913891\" xlink:href=\"#me2bf919314\" y=\"74.434871\"/>\n     <use style=\"fill:#1f77b4;stroke:#1f77b4;\" x=\"160.646259\" xlink:href=\"#me2bf919314\" y=\"90.78588\"/>\n     <use style=\"fill:#1f77b4;stroke:#1f77b4;\" x=\"199.29158\" xlink:href=\"#me2bf919314\" y=\"133.693584\"/>\n     <use style=\"fill:#1f77b4;stroke:#1f77b4;\" x=\"85.057825\" xlink:href=\"#me2bf919314\" y=\"50.526487\"/>\n     <use style=\"fill:#1f77b4;stroke:#1f77b4;\" x=\"100.150363\" xlink:href=\"#me2bf919314\" y=\"68.376693\"/>\n     <use style=\"fill:#1f77b4;stroke:#1f77b4;\" x=\"199.887433\" xlink:href=\"#me2bf919314\" y=\"100.601913\"/>\n     <use style=\"fill:#1f77b4;stroke:#1f77b4;\" x=\"121.103138\" xlink:href=\"#me2bf919314\" y=\"78.818259\"/>\n     <use style=\"fill:#1f77b4;stroke:#1f77b4;\" x=\"122.262019\" xlink:href=\"#me2bf919314\" y=\"72.509431\"/>\n     <use style=\"fill:#1f77b4;stroke:#1f77b4;\" x=\"149.819426\" xlink:href=\"#me2bf919314\" y=\"85.194391\"/>\n     <use style=\"fill:#1f77b4;stroke:#1f77b4;\" x=\"78.614427\" xlink:href=\"#me2bf919314\" y=\"37.637556\"/>\n     <use style=\"fill:#1f77b4;stroke:#1f77b4;\" x=\"133.70164\" xlink:href=\"#me2bf919314\" y=\"99.926576\"/>\n     <use style=\"fill:#1f77b4;stroke:#1f77b4;\" x=\"187.351163\" xlink:href=\"#me2bf919314\" y=\"112.069934\"/>\n     <use style=\"fill:#1f77b4;stroke:#1f77b4;\" x=\"104.172632\" xlink:href=\"#me2bf919314\" y=\"67.730753\"/>\n     <use style=\"fill:#1f77b4;stroke:#1f77b4;\" x=\"140.007794\" xlink:href=\"#me2bf919314\" y=\"80.288499\"/>\n     <use style=\"fill:#1f77b4;stroke:#1f77b4;\" x=\"157.420877\" xlink:href=\"#me2bf919314\" y=\"94.609004\"/>\n     <use style=\"fill:#1f77b4;stroke:#1f77b4;\" x=\"152.211433\" xlink:href=\"#me2bf919314\" y=\"95.49707\"/>\n     <use style=\"fill:#1f77b4;stroke:#1f77b4;\" x=\"163.176762\" xlink:href=\"#me2bf919314\" y=\"94.886987\"/>\n     <use style=\"fill:#1f77b4;stroke:#1f77b4;\" x=\"131.884377\" xlink:href=\"#me2bf919314\" y=\"86.693284\"/>\n     <use style=\"fill:#1f77b4;stroke:#1f77b4;\" x=\"96.500369\" xlink:href=\"#me2bf919314\" y=\"60.342717\"/>\n     <use style=\"fill:#1f77b4;stroke:#1f77b4;\" x=\"171.346307\" xlink:href=\"#me2bf919314\" y=\"102.73338\"/>\n     <use style=\"fill:#1f77b4;stroke:#1f77b4;\" x=\"138.829741\" xlink:href=\"#me2bf919314\" y=\"90.646382\"/>\n     <use style=\"fill:#1f77b4;stroke:#1f77b4;\" x=\"122.484583\" xlink:href=\"#me2bf919314\" y=\"68.080967\"/>\n     <use style=\"fill:#1f77b4;stroke:#1f77b4;\" x=\"146.948724\" xlink:href=\"#me2bf919314\" y=\"109.604745\"/>\n     <use style=\"fill:#1f77b4;stroke:#1f77b4;\" x=\"126.774112\" xlink:href=\"#me2bf919314\" y=\"94.289656\"/>\n     <use style=\"fill:#1f77b4;stroke:#1f77b4;\" x=\"121.217268\" xlink:href=\"#me2bf919314\" y=\"81.475164\"/>\n     <use style=\"fill:#1f77b4;stroke:#1f77b4;\" x=\"186.069362\" xlink:href=\"#me2bf919314\" y=\"101.387001\"/>\n     <use style=\"fill:#1f77b4;stroke:#1f77b4;\" x=\"151.354916\" xlink:href=\"#me2bf919314\" y=\"102.478078\"/>\n     <use style=\"fill:#1f77b4;stroke:#1f77b4;\" x=\"142.545217\" xlink:href=\"#me2bf919314\" y=\"74.369232\"/>\n     <use style=\"fill:#1f77b4;stroke:#1f77b4;\" x=\"117.194369\" xlink:href=\"#me2bf919314\" y=\"72.421926\"/>\n     <use style=\"fill:#1f77b4;stroke:#1f77b4;\" x=\"134.523565\" xlink:href=\"#me2bf919314\" y=\"89.970079\"/>\n     <use style=\"fill:#1f77b4;stroke:#1f77b4;\" x=\"109.7369\" xlink:href=\"#me2bf919314\" y=\"62.328817\"/>\n     <use style=\"fill:#1f77b4;stroke:#1f77b4;\" x=\"175.202657\" xlink:href=\"#me2bf919314\" y=\"111.279691\"/>\n     <use style=\"fill:#1f77b4;stroke:#1f77b4;\" x=\"145.333036\" xlink:href=\"#me2bf919314\" y=\"71.113346\"/>\n     <use style=\"fill:#1f77b4;stroke:#1f77b4;\" x=\"159.592859\" xlink:href=\"#me2bf919314\" y=\"92.162087\"/>\n     <use style=\"fill:#1f77b4;stroke:#1f77b4;\" x=\"145.946271\" xlink:href=\"#me2bf919314\" y=\"81.014339\"/>\n     <use style=\"fill:#1f77b4;stroke:#1f77b4;\" x=\"105.262282\" xlink:href=\"#me2bf919314\" y=\"79.707684\"/>\n     <use style=\"fill:#1f77b4;stroke:#1f77b4;\" x=\"136.93969\" xlink:href=\"#me2bf919314\" y=\"81.718902\"/>\n     <use style=\"fill:#1f77b4;stroke:#1f77b4;\" x=\"146.551092\" xlink:href=\"#me2bf919314\" y=\"93.325483\"/>\n     <use style=\"fill:#1f77b4;stroke:#1f77b4;\" x=\"149.211848\" xlink:href=\"#me2bf919314\" y=\"88.528015\"/>\n     <use style=\"fill:#1f77b4;stroke:#1f77b4;\" x=\"67.716727\" xlink:href=\"#me2bf919314\" y=\"35.344271\"/>\n     <use style=\"fill:#1f77b4;stroke:#1f77b4;\" x=\"100.647587\" xlink:href=\"#me2bf919314\" y=\"59.528242\"/>\n     <use style=\"fill:#1f77b4;stroke:#1f77b4;\" x=\"122.108863\" xlink:href=\"#me2bf919314\" y=\"85.020936\"/>\n     <use style=\"fill:#1f77b4;stroke:#1f77b4;\" x=\"161.954289\" xlink:href=\"#me2bf919314\" y=\"103.800606\"/>\n     <use style=\"fill:#1f77b4;stroke:#1f77b4;\" x=\"153.212811\" xlink:href=\"#me2bf919314\" y=\"99.078095\"/>\n     <use style=\"fill:#1f77b4;stroke:#1f77b4;\" x=\"133.466704\" xlink:href=\"#me2bf919314\" y=\"73.81056\"/>\n     <use style=\"fill:#1f77b4;stroke:#1f77b4;\" x=\"124.795433\" xlink:href=\"#me2bf919314\" y=\"71.746242\"/>\n     <use style=\"fill:#1f77b4;stroke:#1f77b4;\" x=\"105.127694\" xlink:href=\"#me2bf919314\" y=\"65.444565\"/>\n     <use style=\"fill:#1f77b4;stroke:#1f77b4;\" x=\"182.707392\" xlink:href=\"#me2bf919314\" y=\"100.51019\"/>\n     <use style=\"fill:#1f77b4;stroke:#1f77b4;\" x=\"76.898191\" xlink:href=\"#me2bf919314\" y=\"56.783332\"/>\n     <use style=\"fill:#1f77b4;stroke:#1f77b4;\" x=\"105.027985\" xlink:href=\"#me2bf919314\" y=\"74.889188\"/>\n     <use style=\"fill:#1f77b4;stroke:#1f77b4;\" x=\"147.643332\" xlink:href=\"#me2bf919314\" y=\"92.243938\"/>\n     <use style=\"fill:#1f77b4;stroke:#1f77b4;\" x=\"129.793961\" xlink:href=\"#me2bf919314\" y=\"75.048181\"/>\n     <use style=\"fill:#1f77b4;stroke:#1f77b4;\" x=\"153.549713\" xlink:href=\"#me2bf919314\" y=\"103.876721\"/>\n     <use style=\"fill:#1f77b4;stroke:#1f77b4;\" x=\"133.124481\" xlink:href=\"#me2bf919314\" y=\"77.006343\"/>\n     <use style=\"fill:#1f77b4;stroke:#1f77b4;\" x=\"98.062812\" xlink:href=\"#me2bf919314\" y=\"51.864415\"/>\n     <use style=\"fill:#1f77b4;stroke:#1f77b4;\" x=\"110.259725\" xlink:href=\"#me2bf919314\" y=\"87.079029\"/>\n     <use style=\"fill:#1f77b4;stroke:#1f77b4;\" x=\"129.919501\" xlink:href=\"#me2bf919314\" y=\"79.774574\"/>\n     <use style=\"fill:#1f77b4;stroke:#1f77b4;\" x=\"78.570031\" xlink:href=\"#me2bf919314\" y=\"60.740507\"/>\n     <use style=\"fill:#1f77b4;stroke:#1f77b4;\" x=\"162.69283\" xlink:href=\"#me2bf919314\" y=\"104.017306\"/>\n     <use style=\"fill:#1f77b4;stroke:#1f77b4;\" x=\"100.863991\" xlink:href=\"#me2bf919314\" y=\"58.677343\"/>\n     <use style=\"fill:#1f77b4;stroke:#1f77b4;\" x=\"132.056436\" xlink:href=\"#me2bf919314\" y=\"87.249747\"/>\n     <use style=\"fill:#1f77b4;stroke:#1f77b4;\" x=\"145.21227\" xlink:href=\"#me2bf919314\" y=\"93.913598\"/>\n     <use style=\"fill:#1f77b4;stroke:#1f77b4;\" x=\"93.942119\" xlink:href=\"#me2bf919314\" y=\"70.12009\"/>\n     <use style=\"fill:#1f77b4;stroke:#1f77b4;\" x=\"119.896138\" xlink:href=\"#me2bf919314\" y=\"78.232315\"/>\n     <use style=\"fill:#1f77b4;stroke:#1f77b4;\" x=\"154.253894\" xlink:href=\"#me2bf919314\" y=\"91.855947\"/>\n     <use style=\"fill:#1f77b4;stroke:#1f77b4;\" x=\"109.006091\" xlink:href=\"#me2bf919314\" y=\"74.703854\"/>\n     <use style=\"fill:#1f77b4;stroke:#1f77b4;\" x=\"164.773176\" xlink:href=\"#me2bf919314\" y=\"91.957897\"/>\n     <use style=\"fill:#1f77b4;stroke:#1f77b4;\" x=\"121.920067\" xlink:href=\"#me2bf919314\" y=\"74.837086\"/>\n     <use style=\"fill:#1f77b4;stroke:#1f77b4;\" x=\"153.898104\" xlink:href=\"#me2bf919314\" y=\"103.799824\"/>\n     <use style=\"fill:#1f77b4;stroke:#1f77b4;\" x=\"111.38987\" xlink:href=\"#me2bf919314\" y=\"83.503306\"/>\n     <use style=\"fill:#1f77b4;stroke:#1f77b4;\" x=\"128.942981\" xlink:href=\"#me2bf919314\" y=\"73.135602\"/>\n     <use style=\"fill:#1f77b4;stroke:#1f77b4;\" x=\"138.41745\" xlink:href=\"#me2bf919314\" y=\"83.599915\"/>\n     <use style=\"fill:#1f77b4;stroke:#1f77b4;\" x=\"94.266618\" xlink:href=\"#me2bf919314\" y=\"71.403465\"/>\n     <use style=\"fill:#1f77b4;stroke:#1f77b4;\" x=\"120.710336\" xlink:href=\"#me2bf919314\" y=\"96.770282\"/>\n     <use style=\"fill:#1f77b4;stroke:#1f77b4;\" x=\"131.33855\" xlink:href=\"#me2bf919314\" y=\"93.435287\"/>\n     <use style=\"fill:#1f77b4;stroke:#1f77b4;\" x=\"127.157318\" xlink:href=\"#me2bf919314\" y=\"83.221844\"/>\n     <use style=\"fill:#1f77b4;stroke:#1f77b4;\" x=\"132.541796\" xlink:href=\"#me2bf919314\" y=\"93.752825\"/>\n     <use style=\"fill:#1f77b4;stroke:#1f77b4;\" x=\"145.583939\" xlink:href=\"#me2bf919314\" y=\"90.401468\"/>\n     <use style=\"fill:#1f77b4;stroke:#1f77b4;\" x=\"134.223891\" xlink:href=\"#me2bf919314\" y=\"65.442536\"/>\n     <use style=\"fill:#1f77b4;stroke:#1f77b4;\" x=\"138.854975\" xlink:href=\"#me2bf919314\" y=\"82.819245\"/>\n     <use style=\"fill:#1f77b4;stroke:#1f77b4;\" x=\"167.881606\" xlink:href=\"#me2bf919314\" y=\"101.14643\"/>\n     <use style=\"fill:#1f77b4;stroke:#1f77b4;\" x=\"91.055567\" xlink:href=\"#me2bf919314\" y=\"73.535637\"/>\n     <use style=\"fill:#1f77b4;stroke:#1f77b4;\" x=\"110.853713\" xlink:href=\"#me2bf919314\" y=\"86.576626\"/>\n     <use style=\"fill:#1f77b4;stroke:#1f77b4;\" x=\"138.119295\" xlink:href=\"#me2bf919314\" y=\"88.601748\"/>\n     <use style=\"fill:#1f77b4;stroke:#1f77b4;\" x=\"125.892087\" xlink:href=\"#me2bf919314\" y=\"87.582489\"/>\n     <use style=\"fill:#1f77b4;stroke:#1f77b4;\" x=\"149.854401\" xlink:href=\"#me2bf919314\" y=\"89.614652\"/>\n     <use style=\"fill:#1f77b4;stroke:#1f77b4;\" x=\"93.382138\" xlink:href=\"#me2bf919314\" y=\"57.934014\"/>\n     <use style=\"fill:#1f77b4;stroke:#1f77b4;\" x=\"113.834116\" xlink:href=\"#me2bf919314\" y=\"79.30372\"/>\n     <use style=\"fill:#1f77b4;stroke:#1f77b4;\" x=\"115.104247\" xlink:href=\"#me2bf919314\" y=\"78.387799\"/>\n     <use style=\"fill:#1f77b4;stroke:#1f77b4;\" x=\"155.724679\" xlink:href=\"#me2bf919314\" y=\"94.800206\"/>\n     <use style=\"fill:#1f77b4;stroke:#1f77b4;\" x=\"135.287817\" xlink:href=\"#me2bf919314\" y=\"71.883929\"/>\n     <use style=\"fill:#1f77b4;stroke:#1f77b4;\" x=\"85.146029\" xlink:href=\"#me2bf919314\" y=\"61.728777\"/>\n     <use style=\"fill:#1f77b4;stroke:#1f77b4;\" x=\"162.321468\" xlink:href=\"#me2bf919314\" y=\"98.968089\"/>\n     <use style=\"fill:#1f77b4;stroke:#1f77b4;\" x=\"94.365802\" xlink:href=\"#me2bf919314\" y=\"67.806543\"/>\n     <use style=\"fill:#1f77b4;stroke:#1f77b4;\" x=\"81.875493\" xlink:href=\"#me2bf919314\" y=\"55.178584\"/>\n     <use style=\"fill:#1f77b4;stroke:#1f77b4;\" x=\"142.964293\" xlink:href=\"#me2bf919314\" y=\"91.953624\"/>\n     <use style=\"fill:#1f77b4;stroke:#1f77b4;\" x=\"175.823011\" xlink:href=\"#me2bf919314\" y=\"115.249825\"/>\n     <use style=\"fill:#1f77b4;stroke:#1f77b4;\" x=\"113.285432\" xlink:href=\"#me2bf919314\" y=\"74.907602\"/>\n     <use style=\"fill:#1f77b4;stroke:#1f77b4;\" x=\"164.252009\" xlink:href=\"#me2bf919314\" y=\"100.535194\"/>\n     <use style=\"fill:#1f77b4;stroke:#1f77b4;\" x=\"150.155861\" xlink:href=\"#me2bf919314\" y=\"98.80862\"/>\n     <use style=\"fill:#1f77b4;stroke:#1f77b4;\" x=\"180.369956\" xlink:href=\"#me2bf919314\" y=\"110.455722\"/>\n     <use style=\"fill:#1f77b4;stroke:#1f77b4;\" x=\"118.507403\" xlink:href=\"#me2bf919314\" y=\"93.207902\"/>\n     <use style=\"fill:#1f77b4;stroke:#1f77b4;\" x=\"183.416704\" xlink:href=\"#me2bf919314\" y=\"107.308236\"/>\n     <use style=\"fill:#1f77b4;stroke:#1f77b4;\" x=\"66.504035\" xlink:href=\"#me2bf919314\" y=\"56.340609\"/>\n     <use style=\"fill:#1f77b4;stroke:#1f77b4;\" x=\"111.503703\" xlink:href=\"#me2bf919314\" y=\"64.104064\"/>\n     <use style=\"fill:#1f77b4;stroke:#1f77b4;\" x=\"131.387989\" xlink:href=\"#me2bf919314\" y=\"71.88438\"/>\n     <use style=\"fill:#1f77b4;stroke:#1f77b4;\" x=\"102.718732\" xlink:href=\"#me2bf919314\" y=\"73.473348\"/>\n     <use style=\"fill:#1f77b4;stroke:#1f77b4;\" x=\"176.046848\" xlink:href=\"#me2bf919314\" y=\"105.888428\"/>\n     <use style=\"fill:#1f77b4;stroke:#1f77b4;\" x=\"128.850005\" xlink:href=\"#me2bf919314\" y=\"75.651525\"/>\n     <use style=\"fill:#1f77b4;stroke:#1f77b4;\" x=\"129.161962\" xlink:href=\"#me2bf919314\" y=\"84.187399\"/>\n     <use style=\"fill:#1f77b4;stroke:#1f77b4;\" x=\"164.895996\" xlink:href=\"#me2bf919314\" y=\"92.310385\"/>\n     <use style=\"fill:#1f77b4;stroke:#1f77b4;\" x=\"152.509564\" xlink:href=\"#me2bf919314\" y=\"95.809747\"/>\n     <use style=\"fill:#1f77b4;stroke:#1f77b4;\" x=\"85.140347\" xlink:href=\"#me2bf919314\" y=\"67.506748\"/>\n     <use style=\"fill:#1f77b4;stroke:#1f77b4;\" x=\"101.902361\" xlink:href=\"#me2bf919314\" y=\"49.346325\"/>\n     <use style=\"fill:#1f77b4;stroke:#1f77b4;\" x=\"130.463585\" xlink:href=\"#me2bf919314\" y=\"68.280001\"/>\n     <use style=\"fill:#1f77b4;stroke:#1f77b4;\" x=\"147.869114\" xlink:href=\"#me2bf919314\" y=\"76.148783\"/>\n     <use style=\"fill:#1f77b4;stroke:#1f77b4;\" x=\"111.286303\" xlink:href=\"#me2bf919314\" y=\"73.546734\"/>\n     <use style=\"fill:#1f77b4;stroke:#1f77b4;\" x=\"109.62256\" xlink:href=\"#me2bf919314\" y=\"82.991885\"/>\n     <use style=\"fill:#1f77b4;stroke:#1f77b4;\" x=\"119.709021\" xlink:href=\"#me2bf919314\" y=\"72.879755\"/>\n     <use style=\"fill:#1f77b4;stroke:#1f77b4;\" x=\"96.113537\" xlink:href=\"#me2bf919314\" y=\"67.226587\"/>\n     <use style=\"fill:#1f77b4;stroke:#1f77b4;\" x=\"119.08644\" xlink:href=\"#me2bf919314\" y=\"82.099818\"/>\n     <use style=\"fill:#1f77b4;stroke:#1f77b4;\" x=\"140.83492\" xlink:href=\"#me2bf919314\" y=\"82.165644\"/>\n     <use style=\"fill:#1f77b4;stroke:#1f77b4;\" x=\"143.359658\" xlink:href=\"#me2bf919314\" y=\"99.479562\"/>\n     <use style=\"fill:#1f77b4;stroke:#1f77b4;\" x=\"94.030323\" xlink:href=\"#me2bf919314\" y=\"66.528141\"/>\n     <use style=\"fill:#1f77b4;stroke:#1f77b4;\" x=\"143.44319\" xlink:href=\"#me2bf919314\" y=\"100.172993\"/>\n     <use style=\"fill:#1f77b4;stroke:#1f77b4;\" x=\"122.394808\" xlink:href=\"#me2bf919314\" y=\"86.602958\"/>\n     <use style=\"fill:#1f77b4;stroke:#1f77b4;\" x=\"111.470772\" xlink:href=\"#me2bf919314\" y=\"69.412101\"/>\n     <use style=\"fill:#1f77b4;stroke:#1f77b4;\" x=\"160.751279\" xlink:href=\"#me2bf919314\" y=\"91.920159\"/>\n     <use style=\"fill:#1f77b4;stroke:#1f77b4;\" x=\"120.526452\" xlink:href=\"#me2bf919314\" y=\"92.313284\"/>\n     <use style=\"fill:#1f77b4;stroke:#1f77b4;\" x=\"123.615658\" xlink:href=\"#me2bf919314\" y=\"82.388022\"/>\n     <use style=\"fill:#1f77b4;stroke:#1f77b4;\" x=\"73.333652\" xlink:href=\"#me2bf919314\" y=\"57.79341\"/>\n     <use style=\"fill:#1f77b4;stroke:#1f77b4;\" x=\"138.523488\" xlink:href=\"#me2bf919314\" y=\"94.491114\"/>\n     <use style=\"fill:#1f77b4;stroke:#1f77b4;\" x=\"118.634623\" xlink:href=\"#me2bf919314\" y=\"82.116146\"/>\n     <use style=\"fill:#1f77b4;stroke:#1f77b4;\" x=\"95.033868\" xlink:href=\"#me2bf919314\" y=\"59.76931\"/>\n     <use style=\"fill:#1f77b4;stroke:#1f77b4;\" x=\"102.175376\" xlink:href=\"#me2bf919314\" y=\"57.8618\"/>\n     <use style=\"fill:#1f77b4;stroke:#1f77b4;\" x=\"143.891287\" xlink:href=\"#me2bf919314\" y=\"88.982539\"/>\n     <use style=\"fill:#1f77b4;stroke:#1f77b4;\" x=\"124.017428\" xlink:href=\"#me2bf919314\" y=\"83.897491\"/>\n     <use style=\"fill:#1f77b4;stroke:#1f77b4;\" x=\"119.165805\" xlink:href=\"#me2bf919314\" y=\"74.833732\"/>\n     <use style=\"fill:#1f77b4;stroke:#1f77b4;\" x=\"100.049291\" xlink:href=\"#me2bf919314\" y=\"69.455417\"/>\n     <use style=\"fill:#1f77b4;stroke:#1f77b4;\" x=\"140.325975\" xlink:href=\"#me2bf919314\" y=\"87.035\"/>\n     <use style=\"fill:#1f77b4;stroke:#1f77b4;\" x=\"119.164308\" xlink:href=\"#me2bf919314\" y=\"83.466268\"/>\n     <use style=\"fill:#1f77b4;stroke:#1f77b4;\" x=\"146.235595\" xlink:href=\"#me2bf919314\" y=\"95.322154\"/>\n     <use style=\"fill:#1f77b4;stroke:#1f77b4;\" x=\"146.228807\" xlink:href=\"#me2bf919314\" y=\"88.21776\"/>\n     <use style=\"fill:#1f77b4;stroke:#1f77b4;\" x=\"151.268395\" xlink:href=\"#me2bf919314\" y=\"98.642636\"/>\n     <use style=\"fill:#1f77b4;stroke:#1f77b4;\" x=\"173.274051\" xlink:href=\"#me2bf919314\" y=\"113.290616\"/>\n     <use style=\"fill:#1f77b4;stroke:#1f77b4;\" x=\"109.604104\" xlink:href=\"#me2bf919314\" y=\"82.449781\"/>\n     <use style=\"fill:#1f77b4;stroke:#1f77b4;\" x=\"131.666317\" xlink:href=\"#me2bf919314\" y=\"77.438832\"/>\n     <use style=\"fill:#1f77b4;stroke:#1f77b4;\" x=\"129.678164\" xlink:href=\"#me2bf919314\" y=\"71.356953\"/>\n     <use style=\"fill:#1f77b4;stroke:#1f77b4;\" x=\"173.255494\" xlink:href=\"#me2bf919314\" y=\"103.035234\"/>\n     <use style=\"fill:#1f77b4;stroke:#1f77b4;\" x=\"157.578664\" xlink:href=\"#me2bf919314\" y=\"102.548964\"/>\n     <use style=\"fill:#1f77b4;stroke:#1f77b4;\" x=\"83.455449\" xlink:href=\"#me2bf919314\" y=\"52.854805\"/>\n     <use style=\"fill:#1f77b4;stroke:#1f77b4;\" x=\"106.265395\" xlink:href=\"#me2bf919314\" y=\"71.493503\"/>\n     <use style=\"fill:#1f77b4;stroke:#1f77b4;\" x=\"151.844959\" xlink:href=\"#me2bf919314\" y=\"108.69354\"/>\n     <use style=\"fill:#1f77b4;stroke:#1f77b4;\" x=\"119.607665\" xlink:href=\"#me2bf919314\" y=\"79.837202\"/>\n     <use style=\"fill:#1f77b4;stroke:#1f77b4;\" x=\"123.709798\" xlink:href=\"#me2bf919314\" y=\"77.340479\"/>\n     <use style=\"fill:#1f77b4;stroke:#1f77b4;\" x=\"84.54029\" xlink:href=\"#me2bf919314\" y=\"59.539177\"/>\n     <use style=\"fill:#1f77b4;stroke:#1f77b4;\" x=\"157.659544\" xlink:href=\"#me2bf919314\" y=\"85.728878\"/>\n     <use style=\"fill:#1f77b4;stroke:#1f77b4;\" x=\"178.689777\" xlink:href=\"#me2bf919314\" y=\"92.018858\"/>\n     <use style=\"fill:#1f77b4;stroke:#1f77b4;\" x=\"145.390891\" xlink:href=\"#me2bf919314\" y=\"91.756457\"/>\n     <use style=\"fill:#1f77b4;stroke:#1f77b4;\" x=\"165.875449\" xlink:href=\"#me2bf919314\" y=\"99.304841\"/>\n     <use style=\"fill:#1f77b4;stroke:#1f77b4;\" x=\"105.998482\" xlink:href=\"#me2bf919314\" y=\"64.678323\"/>\n     <use style=\"fill:#1f77b4;stroke:#1f77b4;\" x=\"135.371377\" xlink:href=\"#me2bf919314\" y=\"83.351831\"/>\n     <use style=\"fill:#1f77b4;stroke:#1f77b4;\" x=\"94.612757\" xlink:href=\"#me2bf919314\" y=\"64.765258\"/>\n     <use style=\"fill:#1f77b4;stroke:#1f77b4;\" x=\"92.821804\" xlink:href=\"#me2bf919314\" y=\"63.187896\"/>\n     <use style=\"fill:#1f77b4;stroke:#1f77b4;\" x=\"100.406005\" xlink:href=\"#me2bf919314\" y=\"62.328892\"/>\n     <use style=\"fill:#1f77b4;stroke:#1f77b4;\" x=\"135.476568\" xlink:href=\"#me2bf919314\" y=\"89.8155\"/>\n     <use style=\"fill:#1f77b4;stroke:#1f77b4;\" x=\"114.46892\" xlink:href=\"#me2bf919314\" y=\"69.901081\"/>\n     <use style=\"fill:#1f77b4;stroke:#1f77b4;\" x=\"138.045837\" xlink:href=\"#me2bf919314\" y=\"84.366899\"/>\n     <use style=\"fill:#1f77b4;stroke:#1f77b4;\" x=\"166.966599\" xlink:href=\"#me2bf919314\" y=\"102.538573\"/>\n     <use style=\"fill:#1f77b4;stroke:#1f77b4;\" x=\"124.73196\" xlink:href=\"#me2bf919314\" y=\"75.796805\"/>\n     <use style=\"fill:#1f77b4;stroke:#1f77b4;\" x=\"183.573012\" xlink:href=\"#me2bf919314\" y=\"98.726879\"/>\n     <use style=\"fill:#1f77b4;stroke:#1f77b4;\" x=\"203.314857\" xlink:href=\"#me2bf919314\" y=\"133.933864\"/>\n     <use style=\"fill:#1f77b4;stroke:#1f77b4;\" x=\"160.749167\" xlink:href=\"#me2bf919314\" y=\"96.922665\"/>\n     <use style=\"fill:#1f77b4;stroke:#1f77b4;\" x=\"140.82975\" xlink:href=\"#me2bf919314\" y=\"73.316971\"/>\n     <use style=\"fill:#1f77b4;stroke:#1f77b4;\" x=\"136.554607\" xlink:href=\"#me2bf919314\" y=\"82.585111\"/>\n     <use style=\"fill:#1f77b4;stroke:#1f77b4;\" x=\"111.345191\" xlink:href=\"#me2bf919314\" y=\"78.334043\"/>\n     <use style=\"fill:#1f77b4;stroke:#1f77b4;\" x=\"112.490913\" xlink:href=\"#me2bf919314\" y=\"78.983699\"/>\n     <use style=\"fill:#1f77b4;stroke:#1f77b4;\" x=\"91.993164\" xlink:href=\"#me2bf919314\" y=\"56.232913\"/>\n     <use style=\"fill:#1f77b4;stroke:#1f77b4;\" x=\"80.209029\" xlink:href=\"#me2bf919314\" y=\"67.975252\"/>\n     <use style=\"fill:#1f77b4;stroke:#1f77b4;\" x=\"87.844679\" xlink:href=\"#me2bf919314\" y=\"49.879957\"/>\n     <use style=\"fill:#1f77b4;stroke:#1f77b4;\" x=\"101.300214\" xlink:href=\"#me2bf919314\" y=\"65.355372\"/>\n     <use style=\"fill:#1f77b4;stroke:#1f77b4;\" x=\"117.468843\" xlink:href=\"#me2bf919314\" y=\"76.573951\"/>\n     <use style=\"fill:#1f77b4;stroke:#1f77b4;\" x=\"150.21778\" xlink:href=\"#me2bf919314\" y=\"99.162741\"/>\n     <use style=\"fill:#1f77b4;stroke:#1f77b4;\" x=\"168.511435\" xlink:href=\"#me2bf919314\" y=\"105.622996\"/>\n     <use style=\"fill:#1f77b4;stroke:#1f77b4;\" x=\"163.486268\" xlink:href=\"#me2bf919314\" y=\"104.699923\"/>\n     <use style=\"fill:#1f77b4;stroke:#1f77b4;\" x=\"151.918957\" xlink:href=\"#me2bf919314\" y=\"92.02828\"/>\n     <use style=\"fill:#1f77b4;stroke:#1f77b4;\" x=\"116.510082\" xlink:href=\"#me2bf919314\" y=\"84.861862\"/>\n     <use style=\"fill:#1f77b4;stroke:#1f77b4;\" x=\"142.869709\" xlink:href=\"#me2bf919314\" y=\"86.304343\"/>\n     <use style=\"fill:#1f77b4;stroke:#1f77b4;\" x=\"144.839489\" xlink:href=\"#me2bf919314\" y=\"80.93434\"/>\n     <use style=\"fill:#1f77b4;stroke:#1f77b4;\" x=\"151.201222\" xlink:href=\"#me2bf919314\" y=\"80.585425\"/>\n     <use style=\"fill:#1f77b4;stroke:#1f77b4;\" x=\"156.958396\" xlink:href=\"#me2bf919314\" y=\"92.991474\"/>\n     <use style=\"fill:#1f77b4;stroke:#1f77b4;\" x=\"153.990987\" xlink:href=\"#me2bf919314\" y=\"105.921048\"/>\n     <use style=\"fill:#1f77b4;stroke:#1f77b4;\" x=\"127.007234\" xlink:href=\"#me2bf919314\" y=\"72.020026\"/>\n     <use style=\"fill:#1f77b4;stroke:#1f77b4;\" x=\"116.232963\" xlink:href=\"#me2bf919314\" y=\"73.804348\"/>\n     <use style=\"fill:#1f77b4;stroke:#1f77b4;\" x=\"95.812514\" xlink:href=\"#me2bf919314\" y=\"60.472731\"/>\n     <use style=\"fill:#1f77b4;stroke:#1f77b4;\" x=\"88.778532\" xlink:href=\"#me2bf919314\" y=\"59.228459\"/>\n     <use style=\"fill:#1f77b4;stroke:#1f77b4;\" x=\"114.555947\" xlink:href=\"#me2bf919314\" y=\"94.910279\"/>\n     <use style=\"fill:#1f77b4;stroke:#1f77b4;\" x=\"127.773699\" xlink:href=\"#me2bf919314\" y=\"94.563217\"/>\n     <use style=\"fill:#1f77b4;stroke:#1f77b4;\" x=\"125.239086\" xlink:href=\"#me2bf919314\" y=\"60.055245\"/>\n     <use style=\"fill:#1f77b4;stroke:#1f77b4;\" x=\"157.09384\" xlink:href=\"#me2bf919314\" y=\"97.943858\"/>\n     <use style=\"fill:#1f77b4;stroke:#1f77b4;\" x=\"123.173347\" xlink:href=\"#me2bf919314\" y=\"71.426736\"/>\n     <use style=\"fill:#1f77b4;stroke:#1f77b4;\" x=\"115.260208\" xlink:href=\"#me2bf919314\" y=\"70.726858\"/>\n     <use style=\"fill:#1f77b4;stroke:#1f77b4;\" x=\"102.280805\" xlink:href=\"#me2bf919314\" y=\"80.507922\"/>\n     <use style=\"fill:#1f77b4;stroke:#1f77b4;\" x=\"159.651738\" xlink:href=\"#me2bf919314\" y=\"103.993148\"/>\n     <use style=\"fill:#1f77b4;stroke:#1f77b4;\" x=\"178.804717\" xlink:href=\"#me2bf919314\" y=\"113.503996\"/>\n     <use style=\"fill:#1f77b4;stroke:#1f77b4;\" x=\"158.042288\" xlink:href=\"#me2bf919314\" y=\"112.860017\"/>\n     <use style=\"fill:#1f77b4;stroke:#1f77b4;\" x=\"153.163351\" xlink:href=\"#me2bf919314\" y=\"106.133685\"/>\n     <use style=\"fill:#1f77b4;stroke:#1f77b4;\" x=\"146.916258\" xlink:href=\"#me2bf919314\" y=\"96.237952\"/>\n     <use style=\"fill:#1f77b4;stroke:#1f77b4;\" x=\"114.606338\" xlink:href=\"#me2bf919314\" y=\"73.943199\"/>\n     <use style=\"fill:#1f77b4;stroke:#1f77b4;\" x=\"135.574418\" xlink:href=\"#me2bf919314\" y=\"90.859976\"/>\n     <use style=\"fill:#1f77b4;stroke:#1f77b4;\" x=\"182.18461\" xlink:href=\"#me2bf919314\" y=\"111.910129\"/>\n     <use style=\"fill:#1f77b4;stroke:#1f77b4;\" x=\"154.813329\" xlink:href=\"#me2bf919314\" y=\"101.319752\"/>\n     <use style=\"fill:#1f77b4;stroke:#1f77b4;\" x=\"113.628209\" xlink:href=\"#me2bf919314\" y=\"61.214447\"/>\n     <use style=\"fill:#1f77b4;stroke:#1f77b4;\" x=\"151.838474\" xlink:href=\"#me2bf919314\" y=\"103.619285\"/>\n     <use style=\"fill:#1f77b4;stroke:#1f77b4;\" x=\"187.230483\" xlink:href=\"#me2bf919314\" y=\"104.124935\"/>\n     <use style=\"fill:#1f77b4;stroke:#1f77b4;\" x=\"97.619642\" xlink:href=\"#me2bf919314\" y=\"71.703024\"/>\n     <use style=\"fill:#1f77b4;stroke:#1f77b4;\" x=\"203.919813\" xlink:href=\"#me2bf919314\" y=\"119.985997\"/>\n     <use style=\"fill:#1f77b4;stroke:#1f77b4;\" x=\"153.051907\" xlink:href=\"#me2bf919314\" y=\"92.970579\"/>\n     <use style=\"fill:#1f77b4;stroke:#1f77b4;\" x=\"160.637691\" xlink:href=\"#me2bf919314\" y=\"96.576705\"/>\n     <use style=\"fill:#1f77b4;stroke:#1f77b4;\" x=\"190.621693\" xlink:href=\"#me2bf919314\" y=\"115.822595\"/>\n     <use style=\"fill:#1f77b4;stroke:#1f77b4;\" x=\"96.348916\" xlink:href=\"#me2bf919314\" y=\"56.85698\"/>\n     <use style=\"fill:#1f77b4;stroke:#1f77b4;\" x=\"113.036621\" xlink:href=\"#me2bf919314\" y=\"68.811087\"/>\n     <use style=\"fill:#1f77b4;stroke:#1f77b4;\" x=\"130.392967\" xlink:href=\"#me2bf919314\" y=\"78.941906\"/>\n     <use style=\"fill:#1f77b4;stroke:#1f77b4;\" x=\"178.952682\" xlink:href=\"#me2bf919314\" y=\"89.512047\"/>\n     <use style=\"fill:#1f77b4;stroke:#1f77b4;\" x=\"128.712928\" xlink:href=\"#me2bf919314\" y=\"80.570151\"/>\n     <use style=\"fill:#1f77b4;stroke:#1f77b4;\" x=\"135.888833\" xlink:href=\"#me2bf919314\" y=\"86.811648\"/>\n     <use style=\"fill:#1f77b4;stroke:#1f77b4;\" x=\"119.332141\" xlink:href=\"#me2bf919314\" y=\"68.673837\"/>\n     <use style=\"fill:#1f77b4;stroke:#1f77b4;\" x=\"141.738097\" xlink:href=\"#me2bf919314\" y=\"80.539692\"/>\n     <use style=\"fill:#1f77b4;stroke:#1f77b4;\" x=\"150.046237\" xlink:href=\"#me2bf919314\" y=\"87.200162\"/>\n     <use style=\"fill:#1f77b4;stroke:#1f77b4;\" x=\"90.585766\" xlink:href=\"#me2bf919314\" y=\"47.52708\"/>\n     <use style=\"fill:#1f77b4;stroke:#1f77b4;\" x=\"136.166408\" xlink:href=\"#me2bf919314\" y=\"91.013125\"/>\n     <use style=\"fill:#1f77b4;stroke:#1f77b4;\" x=\"82.418\" xlink:href=\"#me2bf919314\" y=\"59.346911\"/>\n     <use style=\"fill:#1f77b4;stroke:#1f77b4;\" x=\"106.241721\" xlink:href=\"#me2bf919314\" y=\"67.206849\"/>\n     <use style=\"fill:#1f77b4;stroke:#1f77b4;\" x=\"46.800349\" xlink:href=\"#me2bf919314\" y=\"42.853201\"/>\n     <use style=\"fill:#1f77b4;stroke:#1f77b4;\" x=\"176.927618\" xlink:href=\"#me2bf919314\" y=\"108.307944\"/>\n     <use style=\"fill:#1f77b4;stroke:#1f77b4;\" x=\"136.026188\" xlink:href=\"#me2bf919314\" y=\"85.144398\"/>\n     <use style=\"fill:#1f77b4;stroke:#1f77b4;\" x=\"129.927876\" xlink:href=\"#me2bf919314\" y=\"95.616633\"/>\n     <use style=\"fill:#1f77b4;stroke:#1f77b4;\" x=\"140.724111\" xlink:href=\"#me2bf919314\" y=\"78.965017\"/>\n     <use style=\"fill:#1f77b4;stroke:#1f77b4;\" x=\"122.287266\" xlink:href=\"#me2bf919314\" y=\"71.607136\"/>\n     <use style=\"fill:#1f77b4;stroke:#1f77b4;\" x=\"162.272138\" xlink:href=\"#me2bf919314\" y=\"89.093427\"/>\n     <use style=\"fill:#1f77b4;stroke:#1f77b4;\" x=\"116.403932\" xlink:href=\"#me2bf919314\" y=\"79.237902\"/>\n     <use style=\"fill:#1f77b4;stroke:#1f77b4;\" x=\"155.170908\" xlink:href=\"#me2bf919314\" y=\"94.315401\"/>\n     <use style=\"fill:#1f77b4;stroke:#1f77b4;\" x=\"148.31468\" xlink:href=\"#me2bf919314\" y=\"82.556107\"/>\n     <use style=\"fill:#1f77b4;stroke:#1f77b4;\" x=\"94.81135\" xlink:href=\"#me2bf919314\" y=\"53.926973\"/>\n     <use style=\"fill:#1f77b4;stroke:#1f77b4;\" x=\"147.094778\" xlink:href=\"#me2bf919314\" y=\"93.025572\"/>\n     <use style=\"fill:#1f77b4;stroke:#1f77b4;\" x=\"155.577484\" xlink:href=\"#me2bf919314\" y=\"89.99695\"/>\n     <use style=\"fill:#1f77b4;stroke:#1f77b4;\" x=\"119.773496\" xlink:href=\"#me2bf919314\" y=\"88.182761\"/>\n     <use style=\"fill:#1f77b4;stroke:#1f77b4;\" x=\"109.585668\" xlink:href=\"#me2bf919314\" y=\"70.138633\"/>\n     <use style=\"fill:#1f77b4;stroke:#1f77b4;\" x=\"135.977308\" xlink:href=\"#me2bf919314\" y=\"87.365449\"/>\n     <use style=\"fill:#1f77b4;stroke:#1f77b4;\" x=\"79.702068\" xlink:href=\"#me2bf919314\" y=\"53.929637\"/>\n     <use style=\"fill:#1f77b4;stroke:#1f77b4;\" x=\"161.429991\" xlink:href=\"#me2bf919314\" y=\"106.545722\"/>\n     <use style=\"fill:#1f77b4;stroke:#1f77b4;\" x=\"154.123629\" xlink:href=\"#me2bf919314\" y=\"93.314649\"/>\n     <use style=\"fill:#1f77b4;stroke:#1f77b4;\" x=\"92.470647\" xlink:href=\"#me2bf919314\" y=\"53.264549\"/>\n     <use style=\"fill:#1f77b4;stroke:#1f77b4;\" x=\"88.835565\" xlink:href=\"#me2bf919314\" y=\"73.043432\"/>\n     <use style=\"fill:#1f77b4;stroke:#1f77b4;\" x=\"165.422117\" xlink:href=\"#me2bf919314\" y=\"108.667129\"/>\n     <use style=\"fill:#1f77b4;stroke:#1f77b4;\" x=\"151.974247\" xlink:href=\"#me2bf919314\" y=\"102.584623\"/>\n     <use style=\"fill:#1f77b4;stroke:#1f77b4;\" x=\"134.735204\" xlink:href=\"#me2bf919314\" y=\"82.613962\"/>\n     <use style=\"fill:#1f77b4;stroke:#1f77b4;\" x=\"132.621709\" xlink:href=\"#me2bf919314\" y=\"86.597151\"/>\n     <use style=\"fill:#1f77b4;stroke:#1f77b4;\" x=\"131.452534\" xlink:href=\"#me2bf919314\" y=\"94.364596\"/>\n     <use style=\"fill:#1f77b4;stroke:#1f77b4;\" x=\"115.882006\" xlink:href=\"#me2bf919314\" y=\"75.550041\"/>\n     <use style=\"fill:#1f77b4;stroke:#1f77b4;\" x=\"167.84511\" xlink:href=\"#me2bf919314\" y=\"112.581441\"/>\n     <use style=\"fill:#1f77b4;stroke:#1f77b4;\" x=\"147.562032\" xlink:href=\"#me2bf919314\" y=\"103.180106\"/>\n     <use style=\"fill:#1f77b4;stroke:#1f77b4;\" x=\"175.242522\" xlink:href=\"#me2bf919314\" y=\"105.617726\"/>\n     <use style=\"fill:#1f77b4;stroke:#1f77b4;\" x=\"93.368849\" xlink:href=\"#me2bf919314\" y=\"62.183956\"/>\n     <use style=\"fill:#1f77b4;stroke:#1f77b4;\" x=\"167.889728\" xlink:href=\"#me2bf919314\" y=\"110.35562\"/>\n     <use style=\"fill:#1f77b4;stroke:#1f77b4;\" x=\"125.217937\" xlink:href=\"#me2bf919314\" y=\"79.292544\"/>\n     <use style=\"fill:#1f77b4;stroke:#1f77b4;\" x=\"123.453042\" xlink:href=\"#me2bf919314\" y=\"91.400563\"/>\n     <use style=\"fill:#1f77b4;stroke:#1f77b4;\" x=\"137.008634\" xlink:href=\"#me2bf919314\" y=\"97.300045\"/>\n     <use style=\"fill:#1f77b4;stroke:#1f77b4;\" x=\"105.99823\" xlink:href=\"#me2bf919314\" y=\"88.764048\"/>\n     <use style=\"fill:#1f77b4;stroke:#1f77b4;\" x=\"135.635255\" xlink:href=\"#me2bf919314\" y=\"81.362254\"/>\n     <use style=\"fill:#1f77b4;stroke:#1f77b4;\" x=\"131.617854\" xlink:href=\"#me2bf919314\" y=\"71.182661\"/>\n     <use style=\"fill:#1f77b4;stroke:#1f77b4;\" x=\"93.267685\" xlink:href=\"#me2bf919314\" y=\"77.246559\"/>\n     <use style=\"fill:#1f77b4;stroke:#1f77b4;\" x=\"160.089634\" xlink:href=\"#me2bf919314\" y=\"81.552667\"/>\n     <use style=\"fill:#1f77b4;stroke:#1f77b4;\" x=\"163.708923\" xlink:href=\"#me2bf919314\" y=\"102.769489\"/>\n     <use style=\"fill:#1f77b4;stroke:#1f77b4;\" x=\"142.069666\" xlink:href=\"#me2bf919314\" y=\"82.015238\"/>\n     <use style=\"fill:#1f77b4;stroke:#1f77b4;\" x=\"126.17199\" xlink:href=\"#me2bf919314\" y=\"87.8576\"/>\n     <use style=\"fill:#1f77b4;stroke:#1f77b4;\" x=\"111.82006\" xlink:href=\"#me2bf919314\" y=\"62.226175\"/>\n     <use style=\"fill:#1f77b4;stroke:#1f77b4;\" x=\"122.507585\" xlink:href=\"#me2bf919314\" y=\"94.053769\"/>\n     <use style=\"fill:#1f77b4;stroke:#1f77b4;\" x=\"71.797326\" xlink:href=\"#me2bf919314\" y=\"49.692745\"/>\n     <use style=\"fill:#1f77b4;stroke:#1f77b4;\" x=\"100.903727\" xlink:href=\"#me2bf919314\" y=\"74.327261\"/>\n     <use style=\"fill:#1f77b4;stroke:#1f77b4;\" x=\"120.583021\" xlink:href=\"#me2bf919314\" y=\"74.527241\"/>\n     <use style=\"fill:#1f77b4;stroke:#1f77b4;\" x=\"104.331847\" xlink:href=\"#me2bf919314\" y=\"74.222978\"/>\n     <use style=\"fill:#1f77b4;stroke:#1f77b4;\" x=\"180.832064\" xlink:href=\"#me2bf919314\" y=\"101.075309\"/>\n     <use style=\"fill:#1f77b4;stroke:#1f77b4;\" x=\"183.999604\" xlink:href=\"#me2bf919314\" y=\"112.663089\"/>\n     <use style=\"fill:#1f77b4;stroke:#1f77b4;\" x=\"150.426561\" xlink:href=\"#me2bf919314\" y=\"102.158132\"/>\n     <use style=\"fill:#1f77b4;stroke:#1f77b4;\" x=\"175.695442\" xlink:href=\"#me2bf919314\" y=\"104.116425\"/>\n     <use style=\"fill:#1f77b4;stroke:#1f77b4;\" x=\"155.191795\" xlink:href=\"#me2bf919314\" y=\"87.954395\"/>\n     <use style=\"fill:#1f77b4;stroke:#1f77b4;\" x=\"137.102705\" xlink:href=\"#me2bf919314\" y=\"87.678182\"/>\n     <use style=\"fill:#1f77b4;stroke:#1f77b4;\" x=\"147.653763\" xlink:href=\"#me2bf919314\" y=\"95.312161\"/>\n     <use style=\"fill:#1f77b4;stroke:#1f77b4;\" x=\"112.102018\" xlink:href=\"#me2bf919314\" y=\"73.742556\"/>\n     <use style=\"fill:#1f77b4;stroke:#1f77b4;\" x=\"133.085482\" xlink:href=\"#me2bf919314\" y=\"80.137053\"/>\n     <use style=\"fill:#1f77b4;stroke:#1f77b4;\" x=\"124.964375\" xlink:href=\"#me2bf919314\" y=\"82.127445\"/>\n     <use style=\"fill:#1f77b4;stroke:#1f77b4;\" x=\"130.473303\" xlink:href=\"#me2bf919314\" y=\"94.205764\"/>\n     <use style=\"fill:#1f77b4;stroke:#1f77b4;\" x=\"100.554277\" xlink:href=\"#me2bf919314\" y=\"59.341325\"/>\n     <use style=\"fill:#1f77b4;stroke:#1f77b4;\" x=\"135.034725\" xlink:href=\"#me2bf919314\" y=\"88.4859\"/>\n     <use style=\"fill:#1f77b4;stroke:#1f77b4;\" x=\"94.718727\" xlink:href=\"#me2bf919314\" y=\"68.224111\"/>\n     <use style=\"fill:#1f77b4;stroke:#1f77b4;\" x=\"147.567184\" xlink:href=\"#me2bf919314\" y=\"97.773762\"/>\n     <use style=\"fill:#1f77b4;stroke:#1f77b4;\" x=\"89.384637\" xlink:href=\"#me2bf919314\" y=\"63.883885\"/>\n     <use style=\"fill:#1f77b4;stroke:#1f77b4;\" x=\"112.989117\" xlink:href=\"#me2bf919314\" y=\"74.652839\"/>\n     <use style=\"fill:#1f77b4;stroke:#1f77b4;\" x=\"181.290278\" xlink:href=\"#me2bf919314\" y=\"116.140242\"/>\n     <use style=\"fill:#1f77b4;stroke:#1f77b4;\" x=\"137.66391\" xlink:href=\"#me2bf919314\" y=\"85.913121\"/>\n     <use style=\"fill:#1f77b4;stroke:#1f77b4;\" x=\"135.399205\" xlink:href=\"#me2bf919314\" y=\"79.75577\"/>\n     <use style=\"fill:#1f77b4;stroke:#1f77b4;\" x=\"124.44864\" xlink:href=\"#me2bf919314\" y=\"88.078331\"/>\n     <use style=\"fill:#1f77b4;stroke:#1f77b4;\" x=\"102.181025\" xlink:href=\"#me2bf919314\" y=\"61.743353\"/>\n     <use style=\"fill:#1f77b4;stroke:#1f77b4;\" x=\"138.820109\" xlink:href=\"#me2bf919314\" y=\"95.254178\"/>\n     <use style=\"fill:#1f77b4;stroke:#1f77b4;\" x=\"174.38793\" xlink:href=\"#me2bf919314\" y=\"118.680953\"/>\n     <use style=\"fill:#1f77b4;stroke:#1f77b4;\" x=\"76.735594\" xlink:href=\"#me2bf919314\" y=\"36.157291\"/>\n     <use style=\"fill:#1f77b4;stroke:#1f77b4;\" x=\"162.260003\" xlink:href=\"#me2bf919314\" y=\"96.867875\"/>\n     <use style=\"fill:#1f77b4;stroke:#1f77b4;\" x=\"154.577145\" xlink:href=\"#me2bf919314\" y=\"97.871544\"/>\n     <use style=\"fill:#1f77b4;stroke:#1f77b4;\" x=\"164.430809\" xlink:href=\"#me2bf919314\" y=\"106.652067\"/>\n     <use style=\"fill:#1f77b4;stroke:#1f77b4;\" x=\"140.563588\" xlink:href=\"#me2bf919314\" y=\"83.717712\"/>\n     <use style=\"fill:#1f77b4;stroke:#1f77b4;\" x=\"189.294596\" xlink:href=\"#me2bf919314\" y=\"108.46958\"/>\n     <use style=\"fill:#1f77b4;stroke:#1f77b4;\" x=\"134.271415\" xlink:href=\"#me2bf919314\" y=\"78.168277\"/>\n     <use style=\"fill:#1f77b4;stroke:#1f77b4;\" x=\"151.841781\" xlink:href=\"#me2bf919314\" y=\"94.843251\"/>\n     <use style=\"fill:#1f77b4;stroke:#1f77b4;\" x=\"177.280304\" xlink:href=\"#me2bf919314\" y=\"121.118913\"/>\n     <use style=\"fill:#1f77b4;stroke:#1f77b4;\" x=\"114.410385\" xlink:href=\"#me2bf919314\" y=\"77.708191\"/>\n     <use style=\"fill:#1f77b4;stroke:#1f77b4;\" x=\"128.892072\" xlink:href=\"#me2bf919314\" y=\"93.940954\"/>\n     <use style=\"fill:#1f77b4;stroke:#1f77b4;\" x=\"151.736016\" xlink:href=\"#me2bf919314\" y=\"86.656488\"/>\n     <use style=\"fill:#1f77b4;stroke:#1f77b4;\" x=\"103.908449\" xlink:href=\"#me2bf919314\" y=\"62.614996\"/>\n     <use style=\"fill:#1f77b4;stroke:#1f77b4;\" x=\"148.227505\" xlink:href=\"#me2bf919314\" y=\"109.424724\"/>\n     <use style=\"fill:#1f77b4;stroke:#1f77b4;\" x=\"124.766605\" xlink:href=\"#me2bf919314\" y=\"85.800273\"/>\n     <use style=\"fill:#1f77b4;stroke:#1f77b4;\" x=\"162.943274\" xlink:href=\"#me2bf919314\" y=\"100.217361\"/>\n     <use style=\"fill:#1f77b4;stroke:#1f77b4;\" x=\"144.003506\" xlink:href=\"#me2bf919314\" y=\"87.530753\"/>\n     <use style=\"fill:#1f77b4;stroke:#1f77b4;\" x=\"112.910244\" xlink:href=\"#me2bf919314\" y=\"74.264926\"/>\n     <use style=\"fill:#1f77b4;stroke:#1f77b4;\" x=\"112.382532\" xlink:href=\"#me2bf919314\" y=\"75.681456\"/>\n     <use style=\"fill:#1f77b4;stroke:#1f77b4;\" x=\"164.663159\" xlink:href=\"#me2bf919314\" y=\"99.814707\"/>\n     <use style=\"fill:#1f77b4;stroke:#1f77b4;\" x=\"139.233728\" xlink:href=\"#me2bf919314\" y=\"88.975985\"/>\n     <use style=\"fill:#1f77b4;stroke:#1f77b4;\" x=\"160.456084\" xlink:href=\"#me2bf919314\" y=\"100.034296\"/>\n     <use style=\"fill:#1f77b4;stroke:#1f77b4;\" x=\"160.155565\" xlink:href=\"#me2bf919314\" y=\"101.567149\"/>\n     <use style=\"fill:#1f77b4;stroke:#1f77b4;\" x=\"98.115064\" xlink:href=\"#me2bf919314\" y=\"56.664252\"/>\n     <use style=\"fill:#1f77b4;stroke:#1f77b4;\" x=\"131.430103\" xlink:href=\"#me2bf919314\" y=\"68.256303\"/>\n     <use style=\"fill:#1f77b4;stroke:#1f77b4;\" x=\"115.624958\" xlink:href=\"#me2bf919314\" y=\"81.70304\"/>\n     <use style=\"fill:#1f77b4;stroke:#1f77b4;\" x=\"131.508772\" xlink:href=\"#me2bf919314\" y=\"85.749018\"/>\n     <use style=\"fill:#1f77b4;stroke:#1f77b4;\" x=\"135.284829\" xlink:href=\"#me2bf919314\" y=\"90.729156\"/>\n     <use style=\"fill:#1f77b4;stroke:#1f77b4;\" x=\"122.824543\" xlink:href=\"#me2bf919314\" y=\"82.696951\"/>\n     <use style=\"fill:#1f77b4;stroke:#1f77b4;\" x=\"138.785116\" xlink:href=\"#me2bf919314\" y=\"90.525806\"/>\n     <use style=\"fill:#1f77b4;stroke:#1f77b4;\" x=\"67.628949\" xlink:href=\"#me2bf919314\" y=\"53.180061\"/>\n     <use style=\"fill:#1f77b4;stroke:#1f77b4;\" x=\"162.055667\" xlink:href=\"#me2bf919314\" y=\"81.126483\"/>\n     <use style=\"fill:#1f77b4;stroke:#1f77b4;\" x=\"113.140881\" xlink:href=\"#me2bf919314\" y=\"64.155959\"/>\n     <use style=\"fill:#1f77b4;stroke:#1f77b4;\" x=\"98.64977\" xlink:href=\"#me2bf919314\" y=\"77.574336\"/>\n     <use style=\"fill:#1f77b4;stroke:#1f77b4;\" x=\"103.993886\" xlink:href=\"#me2bf919314\" y=\"68.245677\"/>\n     <use style=\"fill:#1f77b4;stroke:#1f77b4;\" x=\"95.341419\" xlink:href=\"#me2bf919314\" y=\"76.1729\"/>\n     <use style=\"fill:#1f77b4;stroke:#1f77b4;\" x=\"118.886823\" xlink:href=\"#me2bf919314\" y=\"69.329183\"/>\n     <use style=\"fill:#1f77b4;stroke:#1f77b4;\" x=\"122.072709\" xlink:href=\"#me2bf919314\" y=\"88.750106\"/>\n     <use style=\"fill:#1f77b4;stroke:#1f77b4;\" x=\"139.31266\" xlink:href=\"#me2bf919314\" y=\"84.902588\"/>\n     <use style=\"fill:#1f77b4;stroke:#1f77b4;\" x=\"145.379696\" xlink:href=\"#me2bf919314\" y=\"89.262381\"/>\n     <use style=\"fill:#1f77b4;stroke:#1f77b4;\" x=\"125.591684\" xlink:href=\"#me2bf919314\" y=\"83.624962\"/>\n     <use style=\"fill:#1f77b4;stroke:#1f77b4;\" x=\"96.748898\" xlink:href=\"#me2bf919314\" y=\"51.006662\"/>\n     <use style=\"fill:#1f77b4;stroke:#1f77b4;\" x=\"190.67169\" xlink:href=\"#me2bf919314\" y=\"101.37825\"/>\n     <use style=\"fill:#1f77b4;stroke:#1f77b4;\" x=\"79.063048\" xlink:href=\"#me2bf919314\" y=\"62.261457\"/>\n     <use style=\"fill:#1f77b4;stroke:#1f77b4;\" x=\"151.325732\" xlink:href=\"#me2bf919314\" y=\"101.268818\"/>\n     <use style=\"fill:#1f77b4;stroke:#1f77b4;\" x=\"126.707124\" xlink:href=\"#me2bf919314\" y=\"87.207296\"/>\n     <use style=\"fill:#1f77b4;stroke:#1f77b4;\" x=\"71.414803\" xlink:href=\"#me2bf919314\" y=\"57.155773\"/>\n     <use style=\"fill:#1f77b4;stroke:#1f77b4;\" x=\"88.306753\" xlink:href=\"#me2bf919314\" y=\"76.619563\"/>\n     <use style=\"fill:#1f77b4;stroke:#1f77b4;\" x=\"151.180458\" xlink:href=\"#me2bf919314\" y=\"92.053799\"/>\n     <use style=\"fill:#1f77b4;stroke:#1f77b4;\" x=\"202.128444\" xlink:href=\"#me2bf919314\" y=\"125.5325\"/>\n     <use style=\"fill:#1f77b4;stroke:#1f77b4;\" x=\"194.910437\" xlink:href=\"#me2bf919314\" y=\"120.961983\"/>\n     <use style=\"fill:#1f77b4;stroke:#1f77b4;\" x=\"87.973774\" xlink:href=\"#me2bf919314\" y=\"62.760547\"/>\n     <use style=\"fill:#1f77b4;stroke:#1f77b4;\" x=\"105.064357\" xlink:href=\"#me2bf919314\" y=\"68.285228\"/>\n     <use style=\"fill:#1f77b4;stroke:#1f77b4;\" x=\"89.36888\" xlink:href=\"#me2bf919314\" y=\"54.651158\"/>\n     <use style=\"fill:#1f77b4;stroke:#1f77b4;\" x=\"135.306045\" xlink:href=\"#me2bf919314\" y=\"83.686206\"/>\n     <use style=\"fill:#1f77b4;stroke:#1f77b4;\" x=\"122.281553\" xlink:href=\"#me2bf919314\" y=\"89.578825\"/>\n     <use style=\"fill:#1f77b4;stroke:#1f77b4;\" x=\"120.719565\" xlink:href=\"#me2bf919314\" y=\"75.256584\"/>\n     <use style=\"fill:#1f77b4;stroke:#1f77b4;\" x=\"143.562659\" xlink:href=\"#me2bf919314\" y=\"78.293493\"/>\n     <use style=\"fill:#1f77b4;stroke:#1f77b4;\" x=\"141.925703\" xlink:href=\"#me2bf919314\" y=\"89.646212\"/>\n     <use style=\"fill:#1f77b4;stroke:#1f77b4;\" x=\"149.998164\" xlink:href=\"#me2bf919314\" y=\"97.000803\"/>\n     <use style=\"fill:#1f77b4;stroke:#1f77b4;\" x=\"90.609498\" xlink:href=\"#me2bf919314\" y=\"47.685402\"/>\n     <use style=\"fill:#1f77b4;stroke:#1f77b4;\" x=\"150.748571\" xlink:href=\"#me2bf919314\" y=\"88.272538\"/>\n     <use style=\"fill:#1f77b4;stroke:#1f77b4;\" x=\"162.40848\" xlink:href=\"#me2bf919314\" y=\"100.647036\"/>\n     <use style=\"fill:#1f77b4;stroke:#1f77b4;\" x=\"143.76637\" xlink:href=\"#me2bf919314\" y=\"101.731598\"/>\n     <use style=\"fill:#1f77b4;stroke:#1f77b4;\" x=\"102.460925\" xlink:href=\"#me2bf919314\" y=\"74.072182\"/>\n     <use style=\"fill:#1f77b4;stroke:#1f77b4;\" x=\"121.825367\" xlink:href=\"#me2bf919314\" y=\"74.693329\"/>\n     <use style=\"fill:#1f77b4;stroke:#1f77b4;\" x=\"148.62866\" xlink:href=\"#me2bf919314\" y=\"90.020437\"/>\n     <use style=\"fill:#1f77b4;stroke:#1f77b4;\" x=\"103.253616\" xlink:href=\"#me2bf919314\" y=\"56.897274\"/>\n     <use style=\"fill:#1f77b4;stroke:#1f77b4;\" x=\"130.309969\" xlink:href=\"#me2bf919314\" y=\"78.778374\"/>\n     <use style=\"fill:#1f77b4;stroke:#1f77b4;\" x=\"109.390203\" xlink:href=\"#me2bf919314\" y=\"83.380538\"/>\n     <use style=\"fill:#1f77b4;stroke:#1f77b4;\" x=\"163.734197\" xlink:href=\"#me2bf919314\" y=\"102.226381\"/>\n     <use style=\"fill:#1f77b4;stroke:#1f77b4;\" x=\"77.936032\" xlink:href=\"#me2bf919314\" y=\"43.74927\"/>\n     <use style=\"fill:#1f77b4;stroke:#1f77b4;\" x=\"117.860323\" xlink:href=\"#me2bf919314\" y=\"79.5375\"/>\n     <use style=\"fill:#1f77b4;stroke:#1f77b4;\" x=\"135.173227\" xlink:href=\"#me2bf919314\" y=\"96.721873\"/>\n     <use style=\"fill:#1f77b4;stroke:#1f77b4;\" x=\"129.923288\" xlink:href=\"#me2bf919314\" y=\"71.953963\"/>\n     <use style=\"fill:#1f77b4;stroke:#1f77b4;\" x=\"138.694189\" xlink:href=\"#me2bf919314\" y=\"90.923949\"/>\n     <use style=\"fill:#1f77b4;stroke:#1f77b4;\" x=\"133.441564\" xlink:href=\"#me2bf919314\" y=\"82.287947\"/>\n     <use style=\"fill:#1f77b4;stroke:#1f77b4;\" x=\"144.499632\" xlink:href=\"#me2bf919314\" y=\"96.327057\"/>\n     <use style=\"fill:#1f77b4;stroke:#1f77b4;\" x=\"129.100126\" xlink:href=\"#me2bf919314\" y=\"92.256036\"/>\n     <use style=\"fill:#1f77b4;stroke:#1f77b4;\" x=\"163.833947\" xlink:href=\"#me2bf919314\" y=\"109.624963\"/>\n     <use style=\"fill:#1f77b4;stroke:#1f77b4;\" x=\"98.83572\" xlink:href=\"#me2bf919314\" y=\"70.676414\"/>\n     <use style=\"fill:#1f77b4;stroke:#1f77b4;\" x=\"143.119309\" xlink:href=\"#me2bf919314\" y=\"90.303881\"/>\n     <use style=\"fill:#1f77b4;stroke:#1f77b4;\" x=\"125.583638\" xlink:href=\"#me2bf919314\" y=\"74.306266\"/>\n     <use style=\"fill:#1f77b4;stroke:#1f77b4;\" x=\"120.354798\" xlink:href=\"#me2bf919314\" y=\"89.093619\"/>\n     <use style=\"fill:#1f77b4;stroke:#1f77b4;\" x=\"152.456117\" xlink:href=\"#me2bf919314\" y=\"91.791509\"/>\n     <use style=\"fill:#1f77b4;stroke:#1f77b4;\" x=\"162.151638\" xlink:href=\"#me2bf919314\" y=\"106.956952\"/>\n     <use style=\"fill:#1f77b4;stroke:#1f77b4;\" x=\"100.213783\" xlink:href=\"#me2bf919314\" y=\"66.411597\"/>\n     <use style=\"fill:#1f77b4;stroke:#1f77b4;\" x=\"126.081529\" xlink:href=\"#me2bf919314\" y=\"75.938359\"/>\n     <use style=\"fill:#1f77b4;stroke:#1f77b4;\" x=\"143.066572\" xlink:href=\"#me2bf919314\" y=\"90.882832\"/>\n     <use style=\"fill:#1f77b4;stroke:#1f77b4;\" x=\"147.971269\" xlink:href=\"#me2bf919314\" y=\"89.169989\"/>\n     <use style=\"fill:#1f77b4;stroke:#1f77b4;\" x=\"116.795726\" xlink:href=\"#me2bf919314\" y=\"87.186995\"/>\n     <use style=\"fill:#1f77b4;stroke:#1f77b4;\" x=\"150.825009\" xlink:href=\"#me2bf919314\" y=\"91.915734\"/>\n     <use style=\"fill:#1f77b4;stroke:#1f77b4;\" x=\"99.309105\" xlink:href=\"#me2bf919314\" y=\"70.314228\"/>\n     <use style=\"fill:#1f77b4;stroke:#1f77b4;\" x=\"161.918913\" xlink:href=\"#me2bf919314\" y=\"89.791974\"/>\n     <use style=\"fill:#1f77b4;stroke:#1f77b4;\" x=\"82.926065\" xlink:href=\"#me2bf919314\" y=\"53.26321\"/>\n     <use style=\"fill:#1f77b4;stroke:#1f77b4;\" x=\"152.752816\" xlink:href=\"#me2bf919314\" y=\"86.291474\"/>\n     <use style=\"fill:#1f77b4;stroke:#1f77b4;\" x=\"130.551764\" xlink:href=\"#me2bf919314\" y=\"72.500383\"/>\n     <use style=\"fill:#1f77b4;stroke:#1f77b4;\" x=\"169.558072\" xlink:href=\"#me2bf919314\" y=\"101.522508\"/>\n     <use style=\"fill:#1f77b4;stroke:#1f77b4;\" x=\"142.346669\" xlink:href=\"#me2bf919314\" y=\"94.203377\"/>\n     <use style=\"fill:#1f77b4;stroke:#1f77b4;\" x=\"100.534252\" xlink:href=\"#me2bf919314\" y=\"67.378357\"/>\n     <use style=\"fill:#1f77b4;stroke:#1f77b4;\" x=\"115.758102\" xlink:href=\"#me2bf919314\" y=\"85.652261\"/>\n     <use style=\"fill:#1f77b4;stroke:#1f77b4;\" x=\"118.684443\" xlink:href=\"#me2bf919314\" y=\"73.719967\"/>\n     <use style=\"fill:#1f77b4;stroke:#1f77b4;\" x=\"149.283954\" xlink:href=\"#me2bf919314\" y=\"99.238144\"/>\n     <use style=\"fill:#1f77b4;stroke:#1f77b4;\" x=\"148.036089\" xlink:href=\"#me2bf919314\" y=\"104.304953\"/>\n     <use style=\"fill:#1f77b4;stroke:#1f77b4;\" x=\"153.192768\" xlink:href=\"#me2bf919314\" y=\"72.546644\"/>\n     <use style=\"fill:#1f77b4;stroke:#1f77b4;\" x=\"124.720449\" xlink:href=\"#me2bf919314\" y=\"80.295058\"/>\n     <use style=\"fill:#1f77b4;stroke:#1f77b4;\" x=\"178.389527\" xlink:href=\"#me2bf919314\" y=\"88.815258\"/>\n     <use style=\"fill:#1f77b4;stroke:#1f77b4;\" x=\"126.65327\" xlink:href=\"#me2bf919314\" y=\"89.235925\"/>\n     <use style=\"fill:#1f77b4;stroke:#1f77b4;\" x=\"176.109975\" xlink:href=\"#me2bf919314\" y=\"109.735434\"/>\n     <use style=\"fill:#1f77b4;stroke:#1f77b4;\" x=\"123.848518\" xlink:href=\"#me2bf919314\" y=\"77.74713\"/>\n     <use style=\"fill:#1f77b4;stroke:#1f77b4;\" x=\"131.328615\" xlink:href=\"#me2bf919314\" y=\"87.384624\"/>\n     <use style=\"fill:#1f77b4;stroke:#1f77b4;\" x=\"91.414447\" xlink:href=\"#me2bf919314\" y=\"69.649485\"/>\n     <use style=\"fill:#1f77b4;stroke:#1f77b4;\" x=\"134.184499\" xlink:href=\"#me2bf919314\" y=\"75.872504\"/>\n     <use style=\"fill:#1f77b4;stroke:#1f77b4;\" x=\"156.456147\" xlink:href=\"#me2bf919314\" y=\"88.522284\"/>\n     <use style=\"fill:#1f77b4;stroke:#1f77b4;\" x=\"98.656846\" xlink:href=\"#me2bf919314\" y=\"61.128987\"/>\n     <use style=\"fill:#1f77b4;stroke:#1f77b4;\" x=\"86.560421\" xlink:href=\"#me2bf919314\" y=\"70.108854\"/>\n     <use style=\"fill:#1f77b4;stroke:#1f77b4;\" x=\"131.546314\" xlink:href=\"#me2bf919314\" y=\"88.241289\"/>\n     <use style=\"fill:#1f77b4;stroke:#1f77b4;\" x=\"111.361502\" xlink:href=\"#me2bf919314\" y=\"72.56346\"/>\n     <use style=\"fill:#1f77b4;stroke:#1f77b4;\" x=\"109.886443\" xlink:href=\"#me2bf919314\" y=\"67.54837\"/>\n     <use style=\"fill:#1f77b4;stroke:#1f77b4;\" x=\"130.804278\" xlink:href=\"#me2bf919314\" y=\"84.7669\"/>\n     <use style=\"fill:#1f77b4;stroke:#1f77b4;\" x=\"185.041847\" xlink:href=\"#me2bf919314\" y=\"110.391065\"/>\n     <use style=\"fill:#1f77b4;stroke:#1f77b4;\" x=\"111.38173\" xlink:href=\"#me2bf919314\" y=\"62.673424\"/>\n     <use style=\"fill:#1f77b4;stroke:#1f77b4;\" x=\"96.129222\" xlink:href=\"#me2bf919314\" y=\"62.079037\"/>\n     <use style=\"fill:#1f77b4;stroke:#1f77b4;\" x=\"129.447968\" xlink:href=\"#me2bf919314\" y=\"75.761332\"/>\n     <use style=\"fill:#1f77b4;stroke:#1f77b4;\" x=\"112.609456\" xlink:href=\"#me2bf919314\" y=\"68.409785\"/>\n     <use style=\"fill:#1f77b4;stroke:#1f77b4;\" x=\"123.787408\" xlink:href=\"#me2bf919314\" y=\"87.729821\"/>\n     <use style=\"fill:#1f77b4;stroke:#1f77b4;\" x=\"109.433659\" xlink:href=\"#me2bf919314\" y=\"58.040891\"/>\n     <use style=\"fill:#1f77b4;stroke:#1f77b4;\" x=\"102.811901\" xlink:href=\"#me2bf919314\" y=\"61.830991\"/>\n     <use style=\"fill:#1f77b4;stroke:#1f77b4;\" x=\"146.451917\" xlink:href=\"#me2bf919314\" y=\"99.919393\"/>\n     <use style=\"fill:#1f77b4;stroke:#1f77b4;\" x=\"122.703741\" xlink:href=\"#me2bf919314\" y=\"71.497017\"/>\n     <use style=\"fill:#1f77b4;stroke:#1f77b4;\" x=\"135.669958\" xlink:href=\"#me2bf919314\" y=\"88.986441\"/>\n     <use style=\"fill:#1f77b4;stroke:#1f77b4;\" x=\"94.316101\" xlink:href=\"#me2bf919314\" y=\"64.830606\"/>\n     <use style=\"fill:#1f77b4;stroke:#1f77b4;\" x=\"94.298485\" xlink:href=\"#me2bf919314\" y=\"55.762036\"/>\n     <use style=\"fill:#1f77b4;stroke:#1f77b4;\" x=\"175.122315\" xlink:href=\"#me2bf919314\" y=\"105.904215\"/>\n     <use style=\"fill:#1f77b4;stroke:#1f77b4;\" x=\"126.522735\" xlink:href=\"#me2bf919314\" y=\"82.819093\"/>\n     <use style=\"fill:#1f77b4;stroke:#1f77b4;\" x=\"142.261701\" xlink:href=\"#me2bf919314\" y=\"79.113898\"/>\n     <use style=\"fill:#1f77b4;stroke:#1f77b4;\" x=\"138.977179\" xlink:href=\"#me2bf919314\" y=\"101.594361\"/>\n     <use style=\"fill:#1f77b4;stroke:#1f77b4;\" x=\"122.205991\" xlink:href=\"#me2bf919314\" y=\"71.357157\"/>\n     <use style=\"fill:#1f77b4;stroke:#1f77b4;\" x=\"156.24145\" xlink:href=\"#me2bf919314\" y=\"108.612964\"/>\n     <use style=\"fill:#1f77b4;stroke:#1f77b4;\" x=\"169.478763\" xlink:href=\"#me2bf919314\" y=\"102.538034\"/>\n     <use style=\"fill:#1f77b4;stroke:#1f77b4;\" x=\"149.386255\" xlink:href=\"#me2bf919314\" y=\"91.065761\"/>\n     <use style=\"fill:#1f77b4;stroke:#1f77b4;\" x=\"153.694641\" xlink:href=\"#me2bf919314\" y=\"97.027256\"/>\n     <use style=\"fill:#1f77b4;stroke:#1f77b4;\" x=\"186.919996\" xlink:href=\"#me2bf919314\" y=\"120.295808\"/>\n     <use style=\"fill:#1f77b4;stroke:#1f77b4;\" x=\"110.406818\" xlink:href=\"#me2bf919314\" y=\"63.841845\"/>\n     <use style=\"fill:#1f77b4;stroke:#1f77b4;\" x=\"106.74591\" xlink:href=\"#me2bf919314\" y=\"74.926972\"/>\n     <use style=\"fill:#1f77b4;stroke:#1f77b4;\" x=\"138.154172\" xlink:href=\"#me2bf919314\" y=\"81.012923\"/>\n     <use style=\"fill:#1f77b4;stroke:#1f77b4;\" x=\"157.80069\" xlink:href=\"#me2bf919314\" y=\"103.24634\"/>\n     <use style=\"fill:#1f77b4;stroke:#1f77b4;\" x=\"109.998257\" xlink:href=\"#me2bf919314\" y=\"66.519654\"/>\n     <use style=\"fill:#1f77b4;stroke:#1f77b4;\" x=\"128.974878\" xlink:href=\"#me2bf919314\" y=\"81.333051\"/>\n     <use style=\"fill:#1f77b4;stroke:#1f77b4;\" x=\"113.764303\" xlink:href=\"#me2bf919314\" y=\"64.972653\"/>\n     <use style=\"fill:#1f77b4;stroke:#1f77b4;\" x=\"119.502793\" xlink:href=\"#me2bf919314\" y=\"90.813304\"/>\n     <use style=\"fill:#1f77b4;stroke:#1f77b4;\" x=\"128.746481\" xlink:href=\"#me2bf919314\" y=\"69.474621\"/>\n     <use style=\"fill:#1f77b4;stroke:#1f77b4;\" x=\"127.341\" xlink:href=\"#me2bf919314\" y=\"79.74302\"/>\n     <use style=\"fill:#1f77b4;stroke:#1f77b4;\" x=\"104.78011\" xlink:href=\"#me2bf919314\" y=\"65.843681\"/>\n     <use style=\"fill:#1f77b4;stroke:#1f77b4;\" x=\"153.751222\" xlink:href=\"#me2bf919314\" y=\"97.212774\"/>\n     <use style=\"fill:#1f77b4;stroke:#1f77b4;\" x=\"167.648793\" xlink:href=\"#me2bf919314\" y=\"103.174838\"/>\n     <use style=\"fill:#1f77b4;stroke:#1f77b4;\" x=\"121.042916\" xlink:href=\"#me2bf919314\" y=\"89.570354\"/>\n     <use style=\"fill:#1f77b4;stroke:#1f77b4;\" x=\"95.345384\" xlink:href=\"#me2bf919314\" y=\"85.345142\"/>\n     <use style=\"fill:#1f77b4;stroke:#1f77b4;\" x=\"160.56803\" xlink:href=\"#me2bf919314\" y=\"99.855097\"/>\n     <use style=\"fill:#1f77b4;stroke:#1f77b4;\" x=\"140.978953\" xlink:href=\"#me2bf919314\" y=\"95.052378\"/>\n     <use style=\"fill:#1f77b4;stroke:#1f77b4;\" x=\"111.239392\" xlink:href=\"#me2bf919314\" y=\"63.936499\"/>\n     <use style=\"fill:#1f77b4;stroke:#1f77b4;\" x=\"153.265136\" xlink:href=\"#me2bf919314\" y=\"119.587201\"/>\n     <use style=\"fill:#1f77b4;stroke:#1f77b4;\" x=\"109.490875\" xlink:href=\"#me2bf919314\" y=\"71.295605\"/>\n     <use style=\"fill:#1f77b4;stroke:#1f77b4;\" x=\"118.021808\" xlink:href=\"#me2bf919314\" y=\"79.367686\"/>\n     <use style=\"fill:#1f77b4;stroke:#1f77b4;\" x=\"107.50631\" xlink:href=\"#me2bf919314\" y=\"65.780303\"/>\n     <use style=\"fill:#1f77b4;stroke:#1f77b4;\" x=\"142.664543\" xlink:href=\"#me2bf919314\" y=\"81.332039\"/>\n     <use style=\"fill:#1f77b4;stroke:#1f77b4;\" x=\"106.136405\" xlink:href=\"#me2bf919314\" y=\"71.180917\"/>\n     <use style=\"fill:#1f77b4;stroke:#1f77b4;\" x=\"103.206886\" xlink:href=\"#me2bf919314\" y=\"59.386561\"/>\n     <use style=\"fill:#1f77b4;stroke:#1f77b4;\" x=\"134.260217\" xlink:href=\"#me2bf919314\" y=\"91.238861\"/>\n     <use style=\"fill:#1f77b4;stroke:#1f77b4;\" x=\"115.857681\" xlink:href=\"#me2bf919314\" y=\"93.671788\"/>\n     <use style=\"fill:#1f77b4;stroke:#1f77b4;\" x=\"105.613557\" xlink:href=\"#me2bf919314\" y=\"81.492231\"/>\n     <use style=\"fill:#1f77b4;stroke:#1f77b4;\" x=\"92.025406\" xlink:href=\"#me2bf919314\" y=\"70.668771\"/>\n     <use style=\"fill:#1f77b4;stroke:#1f77b4;\" x=\"120.542069\" xlink:href=\"#me2bf919314\" y=\"85.62916\"/>\n     <use style=\"fill:#1f77b4;stroke:#1f77b4;\" x=\"79.751963\" xlink:href=\"#me2bf919314\" y=\"54.622247\"/>\n     <use style=\"fill:#1f77b4;stroke:#1f77b4;\" x=\"159.304168\" xlink:href=\"#me2bf919314\" y=\"104.422081\"/>\n     <use style=\"fill:#1f77b4;stroke:#1f77b4;\" x=\"172.557237\" xlink:href=\"#me2bf919314\" y=\"103.857799\"/>\n     <use style=\"fill:#1f77b4;stroke:#1f77b4;\" x=\"141.754994\" xlink:href=\"#me2bf919314\" y=\"87.677744\"/>\n     <use style=\"fill:#1f77b4;stroke:#1f77b4;\" x=\"159.093352\" xlink:href=\"#me2bf919314\" y=\"88.256291\"/>\n     <use style=\"fill:#1f77b4;stroke:#1f77b4;\" x=\"129.866404\" xlink:href=\"#me2bf919314\" y=\"74.799946\"/>\n     <use style=\"fill:#1f77b4;stroke:#1f77b4;\" x=\"176.880325\" xlink:href=\"#me2bf919314\" y=\"111.13814\"/>\n     <use style=\"fill:#1f77b4;stroke:#1f77b4;\" x=\"122.143526\" xlink:href=\"#me2bf919314\" y=\"93.816678\"/>\n     <use style=\"fill:#1f77b4;stroke:#1f77b4;\" x=\"184.543389\" xlink:href=\"#me2bf919314\" y=\"116.58592\"/>\n     <use style=\"fill:#1f77b4;stroke:#1f77b4;\" x=\"117.194378\" xlink:href=\"#me2bf919314\" y=\"77.775785\"/>\n     <use style=\"fill:#1f77b4;stroke:#1f77b4;\" x=\"125.301452\" xlink:href=\"#me2bf919314\" y=\"70.918106\"/>\n     <use style=\"fill:#1f77b4;stroke:#1f77b4;\" x=\"162.195241\" xlink:href=\"#me2bf919314\" y=\"93.175126\"/>\n     <use style=\"fill:#1f77b4;stroke:#1f77b4;\" x=\"163.179893\" xlink:href=\"#me2bf919314\" y=\"102.629072\"/>\n     <use style=\"fill:#1f77b4;stroke:#1f77b4;\" x=\"108.369339\" xlink:href=\"#me2bf919314\" y=\"79.027048\"/>\n     <use style=\"fill:#1f77b4;stroke:#1f77b4;\" x=\"165.978701\" xlink:href=\"#me2bf919314\" y=\"94.992411\"/>\n     <use style=\"fill:#1f77b4;stroke:#1f77b4;\" x=\"156.822225\" xlink:href=\"#me2bf919314\" y=\"94.859855\"/>\n     <use style=\"fill:#1f77b4;stroke:#1f77b4;\" x=\"115.223802\" xlink:href=\"#me2bf919314\" y=\"73.704591\"/>\n     <use style=\"fill:#1f77b4;stroke:#1f77b4;\" x=\"111.554416\" xlink:href=\"#me2bf919314\" y=\"64.541708\"/>\n     <use style=\"fill:#1f77b4;stroke:#1f77b4;\" x=\"136.77217\" xlink:href=\"#me2bf919314\" y=\"89.38261\"/>\n     <use style=\"fill:#1f77b4;stroke:#1f77b4;\" x=\"131.77263\" xlink:href=\"#me2bf919314\" y=\"81.404286\"/>\n     <use style=\"fill:#1f77b4;stroke:#1f77b4;\" x=\"145.581113\" xlink:href=\"#me2bf919314\" y=\"88.563315\"/>\n     <use style=\"fill:#1f77b4;stroke:#1f77b4;\" x=\"72.481203\" xlink:href=\"#me2bf919314\" y=\"76.338984\"/>\n     <use style=\"fill:#1f77b4;stroke:#1f77b4;\" x=\"103.007663\" xlink:href=\"#me2bf919314\" y=\"67.674544\"/>\n     <use style=\"fill:#1f77b4;stroke:#1f77b4;\" x=\"135.200022\" xlink:href=\"#me2bf919314\" y=\"80.605975\"/>\n     <use style=\"fill:#1f77b4;stroke:#1f77b4;\" x=\"182.600025\" xlink:href=\"#me2bf919314\" y=\"112.199787\"/>\n     <use style=\"fill:#1f77b4;stroke:#1f77b4;\" x=\"128.221424\" xlink:href=\"#me2bf919314\" y=\"82.702108\"/>\n     <use style=\"fill:#1f77b4;stroke:#1f77b4;\" x=\"89.207963\" xlink:href=\"#me2bf919314\" y=\"68.375729\"/>\n     <use style=\"fill:#1f77b4;stroke:#1f77b4;\" x=\"100.22728\" xlink:href=\"#me2bf919314\" y=\"74.2546\"/>\n     <use style=\"fill:#1f77b4;stroke:#1f77b4;\" x=\"213.347727\" xlink:href=\"#me2bf919314\" y=\"134.68276\"/>\n     <use style=\"fill:#1f77b4;stroke:#1f77b4;\" x=\"159.593537\" xlink:href=\"#me2bf919314\" y=\"87.34025\"/>\n     <use style=\"fill:#1f77b4;stroke:#1f77b4;\" x=\"106.313762\" xlink:href=\"#me2bf919314\" y=\"67.507336\"/>\n     <use style=\"fill:#1f77b4;stroke:#1f77b4;\" x=\"92.586166\" xlink:href=\"#me2bf919314\" y=\"51.47182\"/>\n     <use style=\"fill:#1f77b4;stroke:#1f77b4;\" x=\"138.103368\" xlink:href=\"#me2bf919314\" y=\"82.178581\"/>\n     <use style=\"fill:#1f77b4;stroke:#1f77b4;\" x=\"97.35875\" xlink:href=\"#me2bf919314\" y=\"63.37564\"/>\n     <use style=\"fill:#1f77b4;stroke:#1f77b4;\" x=\"125.752228\" xlink:href=\"#me2bf919314\" y=\"87.754171\"/>\n     <use style=\"fill:#1f77b4;stroke:#1f77b4;\" x=\"150.879748\" xlink:href=\"#me2bf919314\" y=\"85.568122\"/>\n     <use style=\"fill:#1f77b4;stroke:#1f77b4;\" x=\"125.643176\" xlink:href=\"#me2bf919314\" y=\"93.600409\"/>\n     <use style=\"fill:#1f77b4;stroke:#1f77b4;\" x=\"104.079764\" xlink:href=\"#me2bf919314\" y=\"81.789354\"/>\n     <use style=\"fill:#1f77b4;stroke:#1f77b4;\" x=\"118.306505\" xlink:href=\"#me2bf919314\" y=\"89.530014\"/>\n     <use style=\"fill:#1f77b4;stroke:#1f77b4;\" x=\"87.105977\" xlink:href=\"#me2bf919314\" y=\"58.811019\"/>\n     <use style=\"fill:#1f77b4;stroke:#1f77b4;\" x=\"91.95741\" xlink:href=\"#me2bf919314\" y=\"82.161091\"/>\n     <use style=\"fill:#1f77b4;stroke:#1f77b4;\" x=\"136.353282\" xlink:href=\"#me2bf919314\" y=\"79.17713\"/>\n     <use style=\"fill:#1f77b4;stroke:#1f77b4;\" x=\"172.253523\" xlink:href=\"#me2bf919314\" y=\"104.910276\"/>\n     <use style=\"fill:#1f77b4;stroke:#1f77b4;\" x=\"120.095927\" xlink:href=\"#me2bf919314\" y=\"77.836801\"/>\n     <use style=\"fill:#1f77b4;stroke:#1f77b4;\" x=\"145.049034\" xlink:href=\"#me2bf919314\" y=\"95.044034\"/>\n     <use style=\"fill:#1f77b4;stroke:#1f77b4;\" x=\"142.744029\" xlink:href=\"#me2bf919314\" y=\"101.783491\"/>\n     <use style=\"fill:#1f77b4;stroke:#1f77b4;\" x=\"105.612193\" xlink:href=\"#me2bf919314\" y=\"63.487708\"/>\n     <use style=\"fill:#1f77b4;stroke:#1f77b4;\" x=\"127.272912\" xlink:href=\"#me2bf919314\" y=\"79.35428\"/>\n     <use style=\"fill:#1f77b4;stroke:#1f77b4;\" x=\"137.105939\" xlink:href=\"#me2bf919314\" y=\"85.176516\"/>\n     <use style=\"fill:#1f77b4;stroke:#1f77b4;\" x=\"124.201372\" xlink:href=\"#me2bf919314\" y=\"74.305611\"/>\n     <use style=\"fill:#1f77b4;stroke:#1f77b4;\" x=\"128.522663\" xlink:href=\"#me2bf919314\" y=\"103.041467\"/>\n     <use style=\"fill:#1f77b4;stroke:#1f77b4;\" x=\"126.978623\" xlink:href=\"#me2bf919314\" y=\"75.739277\"/>\n     <use style=\"fill:#1f77b4;stroke:#1f77b4;\" x=\"123.470871\" xlink:href=\"#me2bf919314\" y=\"82.046748\"/>\n     <use style=\"fill:#1f77b4;stroke:#1f77b4;\" x=\"110.649343\" xlink:href=\"#me2bf919314\" y=\"79.058571\"/>\n     <use style=\"fill:#1f77b4;stroke:#1f77b4;\" x=\"144.678168\" xlink:href=\"#me2bf919314\" y=\"94.15127\"/>\n     <use style=\"fill:#1f77b4;stroke:#1f77b4;\" x=\"126.819125\" xlink:href=\"#me2bf919314\" y=\"73.445861\"/>\n     <use style=\"fill:#1f77b4;stroke:#1f77b4;\" x=\"120.678729\" xlink:href=\"#me2bf919314\" y=\"79.794241\"/>\n     <use style=\"fill:#1f77b4;stroke:#1f77b4;\" x=\"154.566982\" xlink:href=\"#me2bf919314\" y=\"94.635603\"/>\n     <use style=\"fill:#1f77b4;stroke:#1f77b4;\" x=\"176.641253\" xlink:href=\"#me2bf919314\" y=\"91.635542\"/>\n     <use style=\"fill:#1f77b4;stroke:#1f77b4;\" x=\"183.758996\" xlink:href=\"#me2bf919314\" y=\"101.191183\"/>\n     <use style=\"fill:#1f77b4;stroke:#1f77b4;\" x=\"119.920606\" xlink:href=\"#me2bf919314\" y=\"70.857909\"/>\n     <use style=\"fill:#1f77b4;stroke:#1f77b4;\" x=\"148.568979\" xlink:href=\"#me2bf919314\" y=\"89.820233\"/>\n     <use style=\"fill:#1f77b4;stroke:#1f77b4;\" x=\"181.019445\" xlink:href=\"#me2bf919314\" y=\"108.843163\"/>\n     <use style=\"fill:#1f77b4;stroke:#1f77b4;\" x=\"186.318732\" xlink:href=\"#me2bf919314\" y=\"104.929812\"/>\n     <use style=\"fill:#1f77b4;stroke:#1f77b4;\" x=\"166.403031\" xlink:href=\"#me2bf919314\" y=\"96.347182\"/>\n     <use style=\"fill:#1f77b4;stroke:#1f77b4;\" x=\"118.02821\" xlink:href=\"#me2bf919314\" y=\"81.923043\"/>\n     <use style=\"fill:#1f77b4;stroke:#1f77b4;\" x=\"149.014177\" xlink:href=\"#me2bf919314\" y=\"90.647047\"/>\n     <use style=\"fill:#1f77b4;stroke:#1f77b4;\" x=\"113.751053\" xlink:href=\"#me2bf919314\" y=\"78.956804\"/>\n     <use style=\"fill:#1f77b4;stroke:#1f77b4;\" x=\"169.518036\" xlink:href=\"#me2bf919314\" y=\"107.878053\"/>\n     <use style=\"fill:#1f77b4;stroke:#1f77b4;\" x=\"153.761936\" xlink:href=\"#me2bf919314\" y=\"99.46462\"/>\n     <use style=\"fill:#1f77b4;stroke:#1f77b4;\" x=\"186.223742\" xlink:href=\"#me2bf919314\" y=\"107.101739\"/>\n     <use style=\"fill:#1f77b4;stroke:#1f77b4;\" x=\"153.215303\" xlink:href=\"#me2bf919314\" y=\"97.11407\"/>\n     <use style=\"fill:#1f77b4;stroke:#1f77b4;\" x=\"112.620443\" xlink:href=\"#me2bf919314\" y=\"70.274938\"/>\n     <use style=\"fill:#1f77b4;stroke:#1f77b4;\" x=\"152.338138\" xlink:href=\"#me2bf919314\" y=\"76.465058\"/>\n     <use style=\"fill:#1f77b4;stroke:#1f77b4;\" x=\"140.354176\" xlink:href=\"#me2bf919314\" y=\"92.372769\"/>\n     <use style=\"fill:#1f77b4;stroke:#1f77b4;\" x=\"99.136175\" xlink:href=\"#me2bf919314\" y=\"80.991261\"/>\n     <use style=\"fill:#1f77b4;stroke:#1f77b4;\" x=\"98.781771\" xlink:href=\"#me2bf919314\" y=\"76.179949\"/>\n     <use style=\"fill:#1f77b4;stroke:#1f77b4;\" x=\"127.347849\" xlink:href=\"#me2bf919314\" y=\"74.985408\"/>\n     <use style=\"fill:#1f77b4;stroke:#1f77b4;\" x=\"151.548647\" xlink:href=\"#me2bf919314\" y=\"93.161127\"/>\n     <use style=\"fill:#1f77b4;stroke:#1f77b4;\" x=\"126.411447\" xlink:href=\"#me2bf919314\" y=\"87.723861\"/>\n     <use style=\"fill:#1f77b4;stroke:#1f77b4;\" x=\"133.280191\" xlink:href=\"#me2bf919314\" y=\"88.516159\"/>\n     <use style=\"fill:#1f77b4;stroke:#1f77b4;\" x=\"102.806646\" xlink:href=\"#me2bf919314\" y=\"72.271382\"/>\n     <use style=\"fill:#1f77b4;stroke:#1f77b4;\" x=\"103.187198\" xlink:href=\"#me2bf919314\" y=\"60.333091\"/>\n     <use style=\"fill:#1f77b4;stroke:#1f77b4;\" x=\"157.7596\" xlink:href=\"#me2bf919314\" y=\"104.017067\"/>\n     <use style=\"fill:#1f77b4;stroke:#1f77b4;\" x=\"110.297567\" xlink:href=\"#me2bf919314\" y=\"84.344357\"/>\n     <use style=\"fill:#1f77b4;stroke:#1f77b4;\" x=\"122.789977\" xlink:href=\"#me2bf919314\" y=\"83.015106\"/>\n     <use style=\"fill:#1f77b4;stroke:#1f77b4;\" x=\"179.436103\" xlink:href=\"#me2bf919314\" y=\"104.543828\"/>\n     <use style=\"fill:#1f77b4;stroke:#1f77b4;\" x=\"167.781932\" xlink:href=\"#me2bf919314\" y=\"92.57364\"/>\n     <use style=\"fill:#1f77b4;stroke:#1f77b4;\" x=\"89.490103\" xlink:href=\"#me2bf919314\" y=\"62.032858\"/>\n     <use style=\"fill:#1f77b4;stroke:#1f77b4;\" x=\"134.222471\" xlink:href=\"#me2bf919314\" y=\"71.492179\"/>\n     <use style=\"fill:#1f77b4;stroke:#1f77b4;\" x=\"141.815639\" xlink:href=\"#me2bf919314\" y=\"93.575833\"/>\n     <use style=\"fill:#1f77b4;stroke:#1f77b4;\" x=\"175.627127\" xlink:href=\"#me2bf919314\" y=\"86.999531\"/>\n     <use style=\"fill:#1f77b4;stroke:#1f77b4;\" x=\"119.933374\" xlink:href=\"#me2bf919314\" y=\"65.661776\"/>\n     <use style=\"fill:#1f77b4;stroke:#1f77b4;\" x=\"133.224815\" xlink:href=\"#me2bf919314\" y=\"91.593812\"/>\n     <use style=\"fill:#1f77b4;stroke:#1f77b4;\" x=\"122.149883\" xlink:href=\"#me2bf919314\" y=\"68.001326\"/>\n     <use style=\"fill:#1f77b4;stroke:#1f77b4;\" x=\"118.3846\" xlink:href=\"#me2bf919314\" y=\"66.882455\"/>\n     <use style=\"fill:#1f77b4;stroke:#1f77b4;\" x=\"142.172082\" xlink:href=\"#me2bf919314\" y=\"90.952163\"/>\n     <use style=\"fill:#1f77b4;stroke:#1f77b4;\" x=\"98.391362\" xlink:href=\"#me2bf919314\" y=\"58.543355\"/>\n     <use style=\"fill:#1f77b4;stroke:#1f77b4;\" x=\"108.599906\" xlink:href=\"#me2bf919314\" y=\"79.302261\"/>\n     <use style=\"fill:#1f77b4;stroke:#1f77b4;\" x=\"99.685025\" xlink:href=\"#me2bf919314\" y=\"71.503852\"/>\n     <use style=\"fill:#1f77b4;stroke:#1f77b4;\" x=\"80.857414\" xlink:href=\"#me2bf919314\" y=\"59.135589\"/>\n     <use style=\"fill:#1f77b4;stroke:#1f77b4;\" x=\"127.722308\" xlink:href=\"#me2bf919314\" y=\"90.511237\"/>\n     <use style=\"fill:#1f77b4;stroke:#1f77b4;\" x=\"106.927915\" xlink:href=\"#me2bf919314\" y=\"65.315564\"/>\n     <use style=\"fill:#1f77b4;stroke:#1f77b4;\" x=\"112.761829\" xlink:href=\"#me2bf919314\" y=\"65.740698\"/>\n     <use style=\"fill:#1f77b4;stroke:#1f77b4;\" x=\"138.041077\" xlink:href=\"#me2bf919314\" y=\"83.326894\"/>\n     <use style=\"fill:#1f77b4;stroke:#1f77b4;\" x=\"126.558782\" xlink:href=\"#me2bf919314\" y=\"77.401775\"/>\n     <use style=\"fill:#1f77b4;stroke:#1f77b4;\" x=\"137.035251\" xlink:href=\"#me2bf919314\" y=\"101.520905\"/>\n     <use style=\"fill:#1f77b4;stroke:#1f77b4;\" x=\"117.452242\" xlink:href=\"#me2bf919314\" y=\"85.014609\"/>\n     <use style=\"fill:#1f77b4;stroke:#1f77b4;\" x=\"123.037254\" xlink:href=\"#me2bf919314\" y=\"75.211495\"/>\n     <use style=\"fill:#1f77b4;stroke:#1f77b4;\" x=\"175.95226\" xlink:href=\"#me2bf919314\" y=\"112.71813\"/>\n     <use style=\"fill:#1f77b4;stroke:#1f77b4;\" x=\"159.347063\" xlink:href=\"#me2bf919314\" y=\"103.626855\"/>\n     <use style=\"fill:#1f77b4;stroke:#1f77b4;\" x=\"185.202567\" xlink:href=\"#me2bf919314\" y=\"116.659456\"/>\n     <use style=\"fill:#1f77b4;stroke:#1f77b4;\" x=\"156.359531\" xlink:href=\"#me2bf919314\" y=\"93.694957\"/>\n     <use style=\"fill:#1f77b4;stroke:#1f77b4;\" x=\"112.647286\" xlink:href=\"#me2bf919314\" y=\"81.477267\"/>\n     <use style=\"fill:#1f77b4;stroke:#1f77b4;\" x=\"112.630225\" xlink:href=\"#me2bf919314\" y=\"78.270212\"/>\n     <use style=\"fill:#1f77b4;stroke:#1f77b4;\" x=\"116.827799\" xlink:href=\"#me2bf919314\" y=\"78.488888\"/>\n     <use style=\"fill:#1f77b4;stroke:#1f77b4;\" x=\"172.192021\" xlink:href=\"#me2bf919314\" y=\"105.863251\"/>\n     <use style=\"fill:#1f77b4;stroke:#1f77b4;\" x=\"103.784278\" xlink:href=\"#me2bf919314\" y=\"74.283039\"/>\n     <use style=\"fill:#1f77b4;stroke:#1f77b4;\" x=\"112.93108\" xlink:href=\"#me2bf919314\" y=\"75.443351\"/>\n     <use style=\"fill:#1f77b4;stroke:#1f77b4;\" x=\"135.300868\" xlink:href=\"#me2bf919314\" y=\"84.868365\"/>\n     <use style=\"fill:#1f77b4;stroke:#1f77b4;\" x=\"128.951819\" xlink:href=\"#me2bf919314\" y=\"96.051421\"/>\n     <use style=\"fill:#1f77b4;stroke:#1f77b4;\" x=\"150.14122\" xlink:href=\"#me2bf919314\" y=\"93.997395\"/>\n     <use style=\"fill:#1f77b4;stroke:#1f77b4;\" x=\"90.114399\" xlink:href=\"#me2bf919314\" y=\"69.407872\"/>\n     <use style=\"fill:#1f77b4;stroke:#1f77b4;\" x=\"114.3239\" xlink:href=\"#me2bf919314\" y=\"65.214141\"/>\n     <use style=\"fill:#1f77b4;stroke:#1f77b4;\" x=\"78.187276\" xlink:href=\"#me2bf919314\" y=\"67.755189\"/>\n     <use style=\"fill:#1f77b4;stroke:#1f77b4;\" x=\"117.223061\" xlink:href=\"#me2bf919314\" y=\"86.505586\"/>\n     <use style=\"fill:#1f77b4;stroke:#1f77b4;\" x=\"154.714808\" xlink:href=\"#me2bf919314\" y=\"94.029254\"/>\n     <use style=\"fill:#1f77b4;stroke:#1f77b4;\" x=\"155.849308\" xlink:href=\"#me2bf919314\" y=\"95.808636\"/>\n     <use style=\"fill:#1f77b4;stroke:#1f77b4;\" x=\"119.518044\" xlink:href=\"#me2bf919314\" y=\"71.64465\"/>\n     <use style=\"fill:#1f77b4;stroke:#1f77b4;\" x=\"128.233366\" xlink:href=\"#me2bf919314\" y=\"65.11122\"/>\n     <use style=\"fill:#1f77b4;stroke:#1f77b4;\" x=\"108.846232\" xlink:href=\"#me2bf919314\" y=\"68.352255\"/>\n     <use style=\"fill:#1f77b4;stroke:#1f77b4;\" x=\"127.635877\" xlink:href=\"#me2bf919314\" y=\"87.492381\"/>\n     <use style=\"fill:#1f77b4;stroke:#1f77b4;\" x=\"124.392812\" xlink:href=\"#me2bf919314\" y=\"88.015178\"/>\n     <use style=\"fill:#1f77b4;stroke:#1f77b4;\" x=\"99.577059\" xlink:href=\"#me2bf919314\" y=\"68.688222\"/>\n     <use style=\"fill:#1f77b4;stroke:#1f77b4;\" x=\"110.332967\" xlink:href=\"#me2bf919314\" y=\"54.605518\"/>\n     <use style=\"fill:#1f77b4;stroke:#1f77b4;\" x=\"132.472114\" xlink:href=\"#me2bf919314\" y=\"75.344406\"/>\n     <use style=\"fill:#1f77b4;stroke:#1f77b4;\" x=\"116.008622\" xlink:href=\"#me2bf919314\" y=\"67.427863\"/>\n     <use style=\"fill:#1f77b4;stroke:#1f77b4;\" x=\"135.986836\" xlink:href=\"#me2bf919314\" y=\"85.164705\"/>\n     <use style=\"fill:#1f77b4;stroke:#1f77b4;\" x=\"151.696331\" xlink:href=\"#me2bf919314\" y=\"94.715091\"/>\n     <use style=\"fill:#1f77b4;stroke:#1f77b4;\" x=\"137.964914\" xlink:href=\"#me2bf919314\" y=\"90.846391\"/>\n     <use style=\"fill:#1f77b4;stroke:#1f77b4;\" x=\"144.936099\" xlink:href=\"#me2bf919314\" y=\"102.674243\"/>\n     <use style=\"fill:#1f77b4;stroke:#1f77b4;\" x=\"124.817303\" xlink:href=\"#me2bf919314\" y=\"106.541847\"/>\n     <use style=\"fill:#1f77b4;stroke:#1f77b4;\" x=\"128.561338\" xlink:href=\"#me2bf919314\" y=\"71.431682\"/>\n     <use style=\"fill:#1f77b4;stroke:#1f77b4;\" x=\"132.40656\" xlink:href=\"#me2bf919314\" y=\"74.48072\"/>\n     <use style=\"fill:#1f77b4;stroke:#1f77b4;\" x=\"134.040748\" xlink:href=\"#me2bf919314\" y=\"84.764164\"/>\n     <use style=\"fill:#1f77b4;stroke:#1f77b4;\" x=\"153.997955\" xlink:href=\"#me2bf919314\" y=\"107.35178\"/>\n     <use style=\"fill:#1f77b4;stroke:#1f77b4;\" x=\"119.44506\" xlink:href=\"#me2bf919314\" y=\"75.030948\"/>\n     <use style=\"fill:#1f77b4;stroke:#1f77b4;\" x=\"142.727426\" xlink:href=\"#me2bf919314\" y=\"97.460642\"/>\n     <use style=\"fill:#1f77b4;stroke:#1f77b4;\" x=\"89.572621\" xlink:href=\"#me2bf919314\" y=\"61.532156\"/>\n     <use style=\"fill:#1f77b4;stroke:#1f77b4;\" x=\"145.280833\" xlink:href=\"#me2bf919314\" y=\"85.046473\"/>\n     <use style=\"fill:#1f77b4;stroke:#1f77b4;\" x=\"86.611386\" xlink:href=\"#me2bf919314\" y=\"49.521896\"/>\n     <use style=\"fill:#1f77b4;stroke:#1f77b4;\" x=\"149.497565\" xlink:href=\"#me2bf919314\" y=\"104.454063\"/>\n     <use style=\"fill:#1f77b4;stroke:#1f77b4;\" x=\"109.140291\" xlink:href=\"#me2bf919314\" y=\"84.317426\"/>\n     <use style=\"fill:#1f77b4;stroke:#1f77b4;\" x=\"92.593893\" xlink:href=\"#me2bf919314\" y=\"59.845489\"/>\n     <use style=\"fill:#1f77b4;stroke:#1f77b4;\" x=\"35.802273\" xlink:href=\"#me2bf919314\" y=\"39.284418\"/>\n     <use style=\"fill:#1f77b4;stroke:#1f77b4;\" x=\"142.048968\" xlink:href=\"#me2bf919314\" y=\"89.230566\"/>\n     <use style=\"fill:#1f77b4;stroke:#1f77b4;\" x=\"110.236488\" xlink:href=\"#me2bf919314\" y=\"73.249383\"/>\n     <use style=\"fill:#1f77b4;stroke:#1f77b4;\" x=\"105.112989\" xlink:href=\"#me2bf919314\" y=\"80.928397\"/>\n     <use style=\"fill:#1f77b4;stroke:#1f77b4;\" x=\"120.907606\" xlink:href=\"#me2bf919314\" y=\"74.785042\"/>\n     <use style=\"fill:#1f77b4;stroke:#1f77b4;\" x=\"135.848538\" xlink:href=\"#me2bf919314\" y=\"91.09843\"/>\n     <use style=\"fill:#1f77b4;stroke:#1f77b4;\" x=\"139.435623\" xlink:href=\"#me2bf919314\" y=\"90.894819\"/>\n     <use style=\"fill:#1f77b4;stroke:#1f77b4;\" x=\"158.57777\" xlink:href=\"#me2bf919314\" y=\"98.102062\"/>\n     <use style=\"fill:#1f77b4;stroke:#1f77b4;\" x=\"115.715285\" xlink:href=\"#me2bf919314\" y=\"73.625554\"/>\n     <use style=\"fill:#1f77b4;stroke:#1f77b4;\" x=\"204.887908\" xlink:href=\"#me2bf919314\" y=\"110.999894\"/>\n     <use style=\"fill:#1f77b4;stroke:#1f77b4;\" x=\"115.840511\" xlink:href=\"#me2bf919314\" y=\"78.931682\"/>\n     <use style=\"fill:#1f77b4;stroke:#1f77b4;\" x=\"144.080329\" xlink:href=\"#me2bf919314\" y=\"96.81891\"/>\n     <use style=\"fill:#1f77b4;stroke:#1f77b4;\" x=\"147.459421\" xlink:href=\"#me2bf919314\" y=\"92.85873\"/>\n     <use style=\"fill:#1f77b4;stroke:#1f77b4;\" x=\"187.465957\" xlink:href=\"#me2bf919314\" y=\"122.739762\"/>\n     <use style=\"fill:#1f77b4;stroke:#1f77b4;\" x=\"154.490995\" xlink:href=\"#me2bf919314\" y=\"99.230692\"/>\n     <use style=\"fill:#1f77b4;stroke:#1f77b4;\" x=\"83.907112\" xlink:href=\"#me2bf919314\" y=\"74.9282\"/>\n     <use style=\"fill:#1f77b4;stroke:#1f77b4;\" x=\"141.936933\" xlink:href=\"#me2bf919314\" y=\"85.537254\"/>\n     <use style=\"fill:#1f77b4;stroke:#1f77b4;\" x=\"134.665273\" xlink:href=\"#me2bf919314\" y=\"70.37525\"/>\n     <use style=\"fill:#1f77b4;stroke:#1f77b4;\" x=\"122.065822\" xlink:href=\"#me2bf919314\" y=\"79.961951\"/>\n     <use style=\"fill:#1f77b4;stroke:#1f77b4;\" x=\"120.129373\" xlink:href=\"#me2bf919314\" y=\"79.274789\"/>\n     <use style=\"fill:#1f77b4;stroke:#1f77b4;\" x=\"169.120258\" xlink:href=\"#me2bf919314\" y=\"100.748316\"/>\n     <use style=\"fill:#1f77b4;stroke:#1f77b4;\" x=\"132.924684\" xlink:href=\"#me2bf919314\" y=\"85.939641\"/>\n     <use style=\"fill:#1f77b4;stroke:#1f77b4;\" x=\"89.449147\" xlink:href=\"#me2bf919314\" y=\"52.005593\"/>\n     <use style=\"fill:#1f77b4;stroke:#1f77b4;\" x=\"169.687668\" xlink:href=\"#me2bf919314\" y=\"110.327419\"/>\n     <use style=\"fill:#1f77b4;stroke:#1f77b4;\" x=\"72.593748\" xlink:href=\"#me2bf919314\" y=\"59.561729\"/>\n     <use style=\"fill:#1f77b4;stroke:#1f77b4;\" x=\"156.722154\" xlink:href=\"#me2bf919314\" y=\"92.523571\"/>\n     <use style=\"fill:#1f77b4;stroke:#1f77b4;\" x=\"133.237875\" xlink:href=\"#me2bf919314\" y=\"84.222994\"/>\n     <use style=\"fill:#1f77b4;stroke:#1f77b4;\" x=\"133.670103\" xlink:href=\"#me2bf919314\" y=\"81.474979\"/>\n     <use style=\"fill:#1f77b4;stroke:#1f77b4;\" x=\"118.55791\" xlink:href=\"#me2bf919314\" y=\"62.172149\"/>\n     <use style=\"fill:#1f77b4;stroke:#1f77b4;\" x=\"145.743624\" xlink:href=\"#me2bf919314\" y=\"95.669568\"/>\n     <use style=\"fill:#1f77b4;stroke:#1f77b4;\" x=\"154.46252\" xlink:href=\"#me2bf919314\" y=\"98.202931\"/>\n     <use style=\"fill:#1f77b4;stroke:#1f77b4;\" x=\"113.506159\" xlink:href=\"#me2bf919314\" y=\"70.980736\"/>\n     <use style=\"fill:#1f77b4;stroke:#1f77b4;\" x=\"154.515971\" xlink:href=\"#me2bf919314\" y=\"99.563242\"/>\n     <use style=\"fill:#1f77b4;stroke:#1f77b4;\" x=\"82.210805\" xlink:href=\"#me2bf919314\" y=\"65.552734\"/>\n     <use style=\"fill:#1f77b4;stroke:#1f77b4;\" x=\"173.360289\" xlink:href=\"#me2bf919314\" y=\"98.69284\"/>\n     <use style=\"fill:#1f77b4;stroke:#1f77b4;\" x=\"166.797386\" xlink:href=\"#me2bf919314\" y=\"95.902769\"/>\n     <use style=\"fill:#1f77b4;stroke:#1f77b4;\" x=\"106.30245\" xlink:href=\"#me2bf919314\" y=\"64.202163\"/>\n     <use style=\"fill:#1f77b4;stroke:#1f77b4;\" x=\"126.51619\" xlink:href=\"#me2bf919314\" y=\"83.621872\"/>\n     <use style=\"fill:#1f77b4;stroke:#1f77b4;\" x=\"130.586551\" xlink:href=\"#me2bf919314\" y=\"98.918503\"/>\n     <use style=\"fill:#1f77b4;stroke:#1f77b4;\" x=\"182.834859\" xlink:href=\"#me2bf919314\" y=\"110.990134\"/>\n     <use style=\"fill:#1f77b4;stroke:#1f77b4;\" x=\"125.763203\" xlink:href=\"#me2bf919314\" y=\"84.753742\"/>\n     <use style=\"fill:#1f77b4;stroke:#1f77b4;\" x=\"142.809055\" xlink:href=\"#me2bf919314\" y=\"87.399518\"/>\n     <use style=\"fill:#1f77b4;stroke:#1f77b4;\" x=\"126.600363\" xlink:href=\"#me2bf919314\" y=\"83.405145\"/>\n     <use style=\"fill:#1f77b4;stroke:#1f77b4;\" x=\"131.763896\" xlink:href=\"#me2bf919314\" y=\"93.44138\"/>\n     <use style=\"fill:#1f77b4;stroke:#1f77b4;\" x=\"130.124356\" xlink:href=\"#me2bf919314\" y=\"84.027258\"/>\n     <use style=\"fill:#1f77b4;stroke:#1f77b4;\" x=\"113.472905\" xlink:href=\"#me2bf919314\" y=\"77.847278\"/>\n     <use style=\"fill:#1f77b4;stroke:#1f77b4;\" x=\"117.670903\" xlink:href=\"#me2bf919314\" y=\"75.105263\"/>\n     <use style=\"fill:#1f77b4;stroke:#1f77b4;\" x=\"121.559703\" xlink:href=\"#me2bf919314\" y=\"78.131126\"/>\n     <use style=\"fill:#1f77b4;stroke:#1f77b4;\" x=\"97.929444\" xlink:href=\"#me2bf919314\" y=\"79.143621\"/>\n     <use style=\"fill:#1f77b4;stroke:#1f77b4;\" x=\"98.476776\" xlink:href=\"#me2bf919314\" y=\"65.48067\"/>\n     <use style=\"fill:#1f77b4;stroke:#1f77b4;\" x=\"97.398847\" xlink:href=\"#me2bf919314\" y=\"68.86421\"/>\n     <use style=\"fill:#1f77b4;stroke:#1f77b4;\" x=\"144.009046\" xlink:href=\"#me2bf919314\" y=\"83.693606\"/>\n     <use style=\"fill:#1f77b4;stroke:#1f77b4;\" x=\"95.726074\" xlink:href=\"#me2bf919314\" y=\"73.865939\"/>\n     <use style=\"fill:#1f77b4;stroke:#1f77b4;\" x=\"109.922914\" xlink:href=\"#me2bf919314\" y=\"64.444345\"/>\n     <use style=\"fill:#1f77b4;stroke:#1f77b4;\" x=\"142.514521\" xlink:href=\"#me2bf919314\" y=\"83.429932\"/>\n     <use style=\"fill:#1f77b4;stroke:#1f77b4;\" x=\"128.89009\" xlink:href=\"#me2bf919314\" y=\"82.165443\"/>\n     <use style=\"fill:#1f77b4;stroke:#1f77b4;\" x=\"128.293921\" xlink:href=\"#me2bf919314\" y=\"94.896764\"/>\n     <use style=\"fill:#1f77b4;stroke:#1f77b4;\" x=\"123.481769\" xlink:href=\"#me2bf919314\" y=\"87.340098\"/>\n     <use style=\"fill:#1f77b4;stroke:#1f77b4;\" x=\"129.814356\" xlink:href=\"#me2bf919314\" y=\"82.282365\"/>\n     <use style=\"fill:#1f77b4;stroke:#1f77b4;\" x=\"133.476059\" xlink:href=\"#me2bf919314\" y=\"78.851097\"/>\n     <use style=\"fill:#1f77b4;stroke:#1f77b4;\" x=\"108.334449\" xlink:href=\"#me2bf919314\" y=\"55.577559\"/>\n     <use style=\"fill:#1f77b4;stroke:#1f77b4;\" x=\"121.882865\" xlink:href=\"#me2bf919314\" y=\"71.395336\"/>\n     <use style=\"fill:#1f77b4;stroke:#1f77b4;\" x=\"158.30271\" xlink:href=\"#me2bf919314\" y=\"97.900114\"/>\n     <use style=\"fill:#1f77b4;stroke:#1f77b4;\" x=\"117.173769\" xlink:href=\"#me2bf919314\" y=\"82.106329\"/>\n     <use style=\"fill:#1f77b4;stroke:#1f77b4;\" x=\"87.91405\" xlink:href=\"#me2bf919314\" y=\"65.446086\"/>\n     <use style=\"fill:#1f77b4;stroke:#1f77b4;\" x=\"181.748196\" xlink:href=\"#me2bf919314\" y=\"123.639125\"/>\n     <use style=\"fill:#1f77b4;stroke:#1f77b4;\" x=\"78.772449\" xlink:href=\"#me2bf919314\" y=\"51.200761\"/>\n     <use style=\"fill:#1f77b4;stroke:#1f77b4;\" x=\"86.133144\" xlink:href=\"#me2bf919314\" y=\"70.050968\"/>\n     <use style=\"fill:#1f77b4;stroke:#1f77b4;\" x=\"78.122459\" xlink:href=\"#me2bf919314\" y=\"64.294298\"/>\n     <use style=\"fill:#1f77b4;stroke:#1f77b4;\" x=\"138.64445\" xlink:href=\"#me2bf919314\" y=\"105.982162\"/>\n     <use style=\"fill:#1f77b4;stroke:#1f77b4;\" x=\"76.978392\" xlink:href=\"#me2bf919314\" y=\"68.88774\"/>\n     <use style=\"fill:#1f77b4;stroke:#1f77b4;\" x=\"139.034356\" xlink:href=\"#me2bf919314\" y=\"87.146494\"/>\n     <use style=\"fill:#1f77b4;stroke:#1f77b4;\" x=\"126.142181\" xlink:href=\"#me2bf919314\" y=\"83.468138\"/>\n     <use style=\"fill:#1f77b4;stroke:#1f77b4;\" x=\"130.834954\" xlink:href=\"#me2bf919314\" y=\"82.5317\"/>\n     <use style=\"fill:#1f77b4;stroke:#1f77b4;\" x=\"116.329363\" xlink:href=\"#me2bf919314\" y=\"76.278478\"/>\n     <use style=\"fill:#1f77b4;stroke:#1f77b4;\" x=\"90.192437\" xlink:href=\"#me2bf919314\" y=\"49.185272\"/>\n     <use style=\"fill:#1f77b4;stroke:#1f77b4;\" x=\"87.45878\" xlink:href=\"#me2bf919314\" y=\"66.91851\"/>\n     <use style=\"fill:#1f77b4;stroke:#1f77b4;\" x=\"123.032705\" xlink:href=\"#me2bf919314\" y=\"91.246358\"/>\n     <use style=\"fill:#1f77b4;stroke:#1f77b4;\" x=\"121.459579\" xlink:href=\"#me2bf919314\" y=\"94.480679\"/>\n     <use style=\"fill:#1f77b4;stroke:#1f77b4;\" x=\"148.070671\" xlink:href=\"#me2bf919314\" y=\"85.658102\"/>\n     <use style=\"fill:#1f77b4;stroke:#1f77b4;\" x=\"133.114222\" xlink:href=\"#me2bf919314\" y=\"84.064622\"/>\n     <use style=\"fill:#1f77b4;stroke:#1f77b4;\" x=\"145.448249\" xlink:href=\"#me2bf919314\" y=\"94.344236\"/>\n     <use style=\"fill:#1f77b4;stroke:#1f77b4;\" x=\"103.331435\" xlink:href=\"#me2bf919314\" y=\"71.608696\"/>\n     <use style=\"fill:#1f77b4;stroke:#1f77b4;\" x=\"79.007351\" xlink:href=\"#me2bf919314\" y=\"69.689179\"/>\n     <use style=\"fill:#1f77b4;stroke:#1f77b4;\" x=\"163.859818\" xlink:href=\"#me2bf919314\" y=\"71.997223\"/>\n     <use style=\"fill:#1f77b4;stroke:#1f77b4;\" x=\"152.099111\" xlink:href=\"#me2bf919314\" y=\"98.269538\"/>\n     <use style=\"fill:#1f77b4;stroke:#1f77b4;\" x=\"124.865756\" xlink:href=\"#me2bf919314\" y=\"68.419332\"/>\n     <use style=\"fill:#1f77b4;stroke:#1f77b4;\" x=\"200.517531\" xlink:href=\"#me2bf919314\" y=\"136.922727\"/>\n     <use style=\"fill:#1f77b4;stroke:#1f77b4;\" x=\"194.413727\" xlink:href=\"#me2bf919314\" y=\"113.302579\"/>\n     <use style=\"fill:#1f77b4;stroke:#1f77b4;\" x=\"109.37081\" xlink:href=\"#me2bf919314\" y=\"57.035929\"/>\n     <use style=\"fill:#1f77b4;stroke:#1f77b4;\" x=\"148.706006\" xlink:href=\"#me2bf919314\" y=\"98.749204\"/>\n     <use style=\"fill:#1f77b4;stroke:#1f77b4;\" x=\"140.006832\" xlink:href=\"#me2bf919314\" y=\"82.10066\"/>\n     <use style=\"fill:#1f77b4;stroke:#1f77b4;\" x=\"166.161551\" xlink:href=\"#me2bf919314\" y=\"102.433221\"/>\n     <use style=\"fill:#1f77b4;stroke:#1f77b4;\" x=\"106.107422\" xlink:href=\"#me2bf919314\" y=\"68.632152\"/>\n     <use style=\"fill:#1f77b4;stroke:#1f77b4;\" x=\"138.299809\" xlink:href=\"#me2bf919314\" y=\"98.735476\"/>\n     <use style=\"fill:#1f77b4;stroke:#1f77b4;\" x=\"146.460892\" xlink:href=\"#me2bf919314\" y=\"98.652429\"/>\n     <use style=\"fill:#1f77b4;stroke:#1f77b4;\" x=\"77.186558\" xlink:href=\"#me2bf919314\" y=\"67.065091\"/>\n     <use style=\"fill:#1f77b4;stroke:#1f77b4;\" x=\"118.142777\" xlink:href=\"#me2bf919314\" y=\"90.068543\"/>\n     <use style=\"fill:#1f77b4;stroke:#1f77b4;\" x=\"176.356886\" xlink:href=\"#me2bf919314\" y=\"112.834557\"/>\n     <use style=\"fill:#1f77b4;stroke:#1f77b4;\" x=\"135.810834\" xlink:href=\"#me2bf919314\" y=\"94.558664\"/>\n     <use style=\"fill:#1f77b4;stroke:#1f77b4;\" x=\"117.593065\" xlink:href=\"#me2bf919314\" y=\"75.352997\"/>\n     <use style=\"fill:#1f77b4;stroke:#1f77b4;\" x=\"152.39398\" xlink:href=\"#me2bf919314\" y=\"106.581215\"/>\n     <use style=\"fill:#1f77b4;stroke:#1f77b4;\" x=\"158.260849\" xlink:href=\"#me2bf919314\" y=\"90.674214\"/>\n     <use style=\"fill:#1f77b4;stroke:#1f77b4;\" x=\"75.235509\" xlink:href=\"#me2bf919314\" y=\"54.813902\"/>\n     <use style=\"fill:#1f77b4;stroke:#1f77b4;\" x=\"114.289003\" xlink:href=\"#me2bf919314\" y=\"70.947091\"/>\n     <use style=\"fill:#1f77b4;stroke:#1f77b4;\" x=\"144.971102\" xlink:href=\"#me2bf919314\" y=\"91.131463\"/>\n     <use style=\"fill:#1f77b4;stroke:#1f77b4;\" x=\"141.805575\" xlink:href=\"#me2bf919314\" y=\"87.716001\"/>\n     <use style=\"fill:#1f77b4;stroke:#1f77b4;\" x=\"105.293563\" xlink:href=\"#me2bf919314\" y=\"67.032012\"/>\n     <use style=\"fill:#1f77b4;stroke:#1f77b4;\" x=\"123.140516\" xlink:href=\"#me2bf919314\" y=\"75.010067\"/>\n     <use style=\"fill:#1f77b4;stroke:#1f77b4;\" x=\"131.157747\" xlink:href=\"#me2bf919314\" y=\"71.97198\"/>\n     <use style=\"fill:#1f77b4;stroke:#1f77b4;\" x=\"119.181408\" xlink:href=\"#me2bf919314\" y=\"83.954769\"/>\n     <use style=\"fill:#1f77b4;stroke:#1f77b4;\" x=\"153.799531\" xlink:href=\"#me2bf919314\" y=\"89.027006\"/>\n     <use style=\"fill:#1f77b4;stroke:#1f77b4;\" x=\"127.446759\" xlink:href=\"#me2bf919314\" y=\"69.758342\"/>\n     <use style=\"fill:#1f77b4;stroke:#1f77b4;\" x=\"44.278349\" xlink:href=\"#me2bf919314\" y=\"13.377273\"/>\n     <use style=\"fill:#1f77b4;stroke:#1f77b4;\" x=\"133.443302\" xlink:href=\"#me2bf919314\" y=\"61.480369\"/>\n     <use style=\"fill:#1f77b4;stroke:#1f77b4;\" x=\"145.049278\" xlink:href=\"#me2bf919314\" y=\"78.023175\"/>\n     <use style=\"fill:#1f77b4;stroke:#1f77b4;\" x=\"115.685113\" xlink:href=\"#me2bf919314\" y=\"91.578057\"/>\n     <use style=\"fill:#1f77b4;stroke:#1f77b4;\" x=\"82.76403\" xlink:href=\"#me2bf919314\" y=\"59.151815\"/>\n     <use style=\"fill:#1f77b4;stroke:#1f77b4;\" x=\"162.616713\" xlink:href=\"#me2bf919314\" y=\"90.563833\"/>\n     <use style=\"fill:#1f77b4;stroke:#1f77b4;\" x=\"108.331552\" xlink:href=\"#me2bf919314\" y=\"73.949499\"/>\n     <use style=\"fill:#1f77b4;stroke:#1f77b4;\" x=\"132.480056\" xlink:href=\"#me2bf919314\" y=\"96.012044\"/>\n     <use style=\"fill:#1f77b4;stroke:#1f77b4;\" x=\"201.859795\" xlink:href=\"#me2bf919314\" y=\"122.500427\"/>\n     <use style=\"fill:#1f77b4;stroke:#1f77b4;\" x=\"150.834413\" xlink:href=\"#me2bf919314\" y=\"95.911572\"/>\n     <use style=\"fill:#1f77b4;stroke:#1f77b4;\" x=\"79.8315\" xlink:href=\"#me2bf919314\" y=\"50.843593\"/>\n     <use style=\"fill:#1f77b4;stroke:#1f77b4;\" x=\"163.503397\" xlink:href=\"#me2bf919314\" y=\"99.017925\"/>\n     <use style=\"fill:#1f77b4;stroke:#1f77b4;\" x=\"98.84792\" xlink:href=\"#me2bf919314\" y=\"54.432853\"/>\n     <use style=\"fill:#1f77b4;stroke:#1f77b4;\" x=\"115.15293\" xlink:href=\"#me2bf919314\" y=\"82.916961\"/>\n     <use style=\"fill:#1f77b4;stroke:#1f77b4;\" x=\"122.097385\" xlink:href=\"#me2bf919314\" y=\"64.683639\"/>\n     <use style=\"fill:#1f77b4;stroke:#1f77b4;\" x=\"117.553353\" xlink:href=\"#me2bf919314\" y=\"69.858428\"/>\n     <use style=\"fill:#1f77b4;stroke:#1f77b4;\" x=\"105.436844\" xlink:href=\"#me2bf919314\" y=\"76.537075\"/>\n     <use style=\"fill:#1f77b4;stroke:#1f77b4;\" x=\"176.112033\" xlink:href=\"#me2bf919314\" y=\"112.00433\"/>\n     <use style=\"fill:#1f77b4;stroke:#1f77b4;\" x=\"119.121895\" xlink:href=\"#me2bf919314\" y=\"59.808595\"/>\n     <use style=\"fill:#1f77b4;stroke:#1f77b4;\" x=\"137.267274\" xlink:href=\"#me2bf919314\" y=\"80.506737\"/>\n     <use style=\"fill:#1f77b4;stroke:#1f77b4;\" x=\"133.349822\" xlink:href=\"#me2bf919314\" y=\"86.667887\"/>\n     <use style=\"fill:#1f77b4;stroke:#1f77b4;\" x=\"124.505251\" xlink:href=\"#me2bf919314\" y=\"80.721727\"/>\n     <use style=\"fill:#1f77b4;stroke:#1f77b4;\" x=\"115.365143\" xlink:href=\"#me2bf919314\" y=\"74.214451\"/>\n     <use style=\"fill:#1f77b4;stroke:#1f77b4;\" x=\"125.244922\" xlink:href=\"#me2bf919314\" y=\"85.855268\"/>\n     <use style=\"fill:#1f77b4;stroke:#1f77b4;\" x=\"128.48546\" xlink:href=\"#me2bf919314\" y=\"80.428349\"/>\n     <use style=\"fill:#1f77b4;stroke:#1f77b4;\" x=\"129.099728\" xlink:href=\"#me2bf919314\" y=\"83.545826\"/>\n     <use style=\"fill:#1f77b4;stroke:#1f77b4;\" x=\"132.331066\" xlink:href=\"#me2bf919314\" y=\"92.100217\"/>\n     <use style=\"fill:#1f77b4;stroke:#1f77b4;\" x=\"142.278738\" xlink:href=\"#me2bf919314\" y=\"79.365914\"/>\n     <use style=\"fill:#1f77b4;stroke:#1f77b4;\" x=\"110.542877\" xlink:href=\"#me2bf919314\" y=\"77.455585\"/>\n     <use style=\"fill:#1f77b4;stroke:#1f77b4;\" x=\"156.549517\" xlink:href=\"#me2bf919314\" y=\"102.252224\"/>\n     <use style=\"fill:#1f77b4;stroke:#1f77b4;\" x=\"115.818737\" xlink:href=\"#me2bf919314\" y=\"80.209916\"/>\n     <use style=\"fill:#1f77b4;stroke:#1f77b4;\" x=\"108.199344\" xlink:href=\"#me2bf919314\" y=\"63.450668\"/>\n     <use style=\"fill:#1f77b4;stroke:#1f77b4;\" x=\"113.415377\" xlink:href=\"#me2bf919314\" y=\"85.711258\"/>\n     <use style=\"fill:#1f77b4;stroke:#1f77b4;\" x=\"114.394573\" xlink:href=\"#me2bf919314\" y=\"74.444283\"/>\n     <use style=\"fill:#1f77b4;stroke:#1f77b4;\" x=\"78.771325\" xlink:href=\"#me2bf919314\" y=\"50.464676\"/>\n     <use style=\"fill:#1f77b4;stroke:#1f77b4;\" x=\"121.496965\" xlink:href=\"#me2bf919314\" y=\"77.848016\"/>\n     <use style=\"fill:#1f77b4;stroke:#1f77b4;\" x=\"168.574923\" xlink:href=\"#me2bf919314\" y=\"106.07491\"/>\n     <use style=\"fill:#1f77b4;stroke:#1f77b4;\" x=\"151.767629\" xlink:href=\"#me2bf919314\" y=\"86.32469\"/>\n     <use style=\"fill:#1f77b4;stroke:#1f77b4;\" x=\"147.558964\" xlink:href=\"#me2bf919314\" y=\"90.268681\"/>\n     <use style=\"fill:#1f77b4;stroke:#1f77b4;\" x=\"103.978433\" xlink:href=\"#me2bf919314\" y=\"66.888284\"/>\n     <use style=\"fill:#1f77b4;stroke:#1f77b4;\" x=\"147.645177\" xlink:href=\"#me2bf919314\" y=\"87.542426\"/>\n     <use style=\"fill:#1f77b4;stroke:#1f77b4;\" x=\"75.714439\" xlink:href=\"#me2bf919314\" y=\"59.093254\"/>\n     <use style=\"fill:#1f77b4;stroke:#1f77b4;\" x=\"162.814863\" xlink:href=\"#me2bf919314\" y=\"100.046937\"/>\n     <use style=\"fill:#1f77b4;stroke:#1f77b4;\" x=\"90.181655\" xlink:href=\"#me2bf919314\" y=\"64.839791\"/>\n     <use style=\"fill:#1f77b4;stroke:#1f77b4;\" x=\"187.602717\" xlink:href=\"#me2bf919314\" y=\"116.522166\"/>\n     <use style=\"fill:#1f77b4;stroke:#1f77b4;\" x=\"175.343399\" xlink:href=\"#me2bf919314\" y=\"103.800168\"/>\n     <use style=\"fill:#1f77b4;stroke:#1f77b4;\" x=\"53.912338\" xlink:href=\"#me2bf919314\" y=\"40.094891\"/>\n     <use style=\"fill:#1f77b4;stroke:#1f77b4;\" x=\"138.883896\" xlink:href=\"#me2bf919314\" y=\"75.014844\"/>\n     <use style=\"fill:#1f77b4;stroke:#1f77b4;\" x=\"69.25909\" xlink:href=\"#me2bf919314\" y=\"62.10917\"/>\n     <use style=\"fill:#1f77b4;stroke:#1f77b4;\" x=\"166.446644\" xlink:href=\"#me2bf919314\" y=\"95.952466\"/>\n     <use style=\"fill:#1f77b4;stroke:#1f77b4;\" x=\"149.125527\" xlink:href=\"#me2bf919314\" y=\"89.473125\"/>\n     <use style=\"fill:#1f77b4;stroke:#1f77b4;\" x=\"144.253477\" xlink:href=\"#me2bf919314\" y=\"95.451087\"/>\n     <use style=\"fill:#1f77b4;stroke:#1f77b4;\" x=\"132.285432\" xlink:href=\"#me2bf919314\" y=\"79.243092\"/>\n     <use style=\"fill:#1f77b4;stroke:#1f77b4;\" x=\"161.597773\" xlink:href=\"#me2bf919314\" y=\"97.7261\"/>\n     <use style=\"fill:#1f77b4;stroke:#1f77b4;\" x=\"122.831386\" xlink:href=\"#me2bf919314\" y=\"82.770532\"/>\n     <use style=\"fill:#1f77b4;stroke:#1f77b4;\" x=\"111.107829\" xlink:href=\"#me2bf919314\" y=\"79.393035\"/>\n     <use style=\"fill:#1f77b4;stroke:#1f77b4;\" x=\"53.769275\" xlink:href=\"#me2bf919314\" y=\"56.700827\"/>\n     <use style=\"fill:#1f77b4;stroke:#1f77b4;\" x=\"79.426002\" xlink:href=\"#me2bf919314\" y=\"67.920669\"/>\n     <use style=\"fill:#1f77b4;stroke:#1f77b4;\" x=\"125.043244\" xlink:href=\"#me2bf919314\" y=\"84.731776\"/>\n     <use style=\"fill:#1f77b4;stroke:#1f77b4;\" x=\"174.865355\" xlink:href=\"#me2bf919314\" y=\"107.756302\"/>\n     <use style=\"fill:#1f77b4;stroke:#1f77b4;\" x=\"64.852357\" xlink:href=\"#me2bf919314\" y=\"44.593881\"/>\n     <use style=\"fill:#1f77b4;stroke:#1f77b4;\" x=\"119.1363\" xlink:href=\"#me2bf919314\" y=\"81.060377\"/>\n     <use style=\"fill:#1f77b4;stroke:#1f77b4;\" x=\"86.085385\" xlink:href=\"#me2bf919314\" y=\"57.805745\"/>\n     <use style=\"fill:#1f77b4;stroke:#1f77b4;\" x=\"151.604789\" xlink:href=\"#me2bf919314\" y=\"88.549911\"/>\n     <use style=\"fill:#1f77b4;stroke:#1f77b4;\" x=\"185.593794\" xlink:href=\"#me2bf919314\" y=\"109.86552\"/>\n     <use style=\"fill:#1f77b4;stroke:#1f77b4;\" x=\"75.129579\" xlink:href=\"#me2bf919314\" y=\"39.279086\"/>\n     <use style=\"fill:#1f77b4;stroke:#1f77b4;\" x=\"98.394881\" xlink:href=\"#me2bf919314\" y=\"67.663215\"/>\n     <use style=\"fill:#1f77b4;stroke:#1f77b4;\" x=\"161.733351\" xlink:href=\"#me2bf919314\" y=\"118.510606\"/>\n     <use style=\"fill:#1f77b4;stroke:#1f77b4;\" x=\"99.471003\" xlink:href=\"#me2bf919314\" y=\"66.38597\"/>\n     <use style=\"fill:#1f77b4;stroke:#1f77b4;\" x=\"136.355218\" xlink:href=\"#me2bf919314\" y=\"95.653472\"/>\n     <use style=\"fill:#1f77b4;stroke:#1f77b4;\" x=\"85.20204\" xlink:href=\"#me2bf919314\" y=\"65.847047\"/>\n     <use style=\"fill:#1f77b4;stroke:#1f77b4;\" x=\"109.084497\" xlink:href=\"#me2bf919314\" y=\"76.407937\"/>\n     <use style=\"fill:#1f77b4;stroke:#1f77b4;\" x=\"129.216753\" xlink:href=\"#me2bf919314\" y=\"86.868711\"/>\n     <use style=\"fill:#1f77b4;stroke:#1f77b4;\" x=\"161.227668\" xlink:href=\"#me2bf919314\" y=\"100.588067\"/>\n     <use style=\"fill:#1f77b4;stroke:#1f77b4;\" x=\"172.249309\" xlink:href=\"#me2bf919314\" y=\"104.126981\"/>\n     <use style=\"fill:#1f77b4;stroke:#1f77b4;\" x=\"111.273933\" xlink:href=\"#me2bf919314\" y=\"57.471636\"/>\n     <use style=\"fill:#1f77b4;stroke:#1f77b4;\" x=\"147.418908\" xlink:href=\"#me2bf919314\" y=\"104.381055\"/>\n     <use style=\"fill:#1f77b4;stroke:#1f77b4;\" x=\"152.348931\" xlink:href=\"#me2bf919314\" y=\"91.196378\"/>\n     <use style=\"fill:#1f77b4;stroke:#1f77b4;\" x=\"158.9339\" xlink:href=\"#me2bf919314\" y=\"98.728873\"/>\n     <use style=\"fill:#1f77b4;stroke:#1f77b4;\" x=\"144.163519\" xlink:href=\"#me2bf919314\" y=\"101.286559\"/>\n     <use style=\"fill:#1f77b4;stroke:#1f77b4;\" x=\"89.025286\" xlink:href=\"#me2bf919314\" y=\"62.869019\"/>\n     <use style=\"fill:#1f77b4;stroke:#1f77b4;\" x=\"127.964088\" xlink:href=\"#me2bf919314\" y=\"77.508508\"/>\n     <use style=\"fill:#1f77b4;stroke:#1f77b4;\" x=\"99.055064\" xlink:href=\"#me2bf919314\" y=\"58.490505\"/>\n     <use style=\"fill:#1f77b4;stroke:#1f77b4;\" x=\"150.884013\" xlink:href=\"#me2bf919314\" y=\"72.401557\"/>\n     <use style=\"fill:#1f77b4;stroke:#1f77b4;\" x=\"98.082823\" xlink:href=\"#me2bf919314\" y=\"84.348633\"/>\n     <use style=\"fill:#1f77b4;stroke:#1f77b4;\" x=\"145.746974\" xlink:href=\"#me2bf919314\" y=\"90.183588\"/>\n     <use style=\"fill:#1f77b4;stroke:#1f77b4;\" x=\"121.630668\" xlink:href=\"#me2bf919314\" y=\"80.133045\"/>\n     <use style=\"fill:#1f77b4;stroke:#1f77b4;\" x=\"153.270736\" xlink:href=\"#me2bf919314\" y=\"87.356447\"/>\n     <use style=\"fill:#1f77b4;stroke:#1f77b4;\" x=\"132.283663\" xlink:href=\"#me2bf919314\" y=\"93.008419\"/>\n     <use style=\"fill:#1f77b4;stroke:#1f77b4;\" x=\"140.361834\" xlink:href=\"#me2bf919314\" y=\"94.270189\"/>\n     <use style=\"fill:#1f77b4;stroke:#1f77b4;\" x=\"125.159511\" xlink:href=\"#me2bf919314\" y=\"79.69117\"/>\n     <use style=\"fill:#1f77b4;stroke:#1f77b4;\" x=\"105.0935\" xlink:href=\"#me2bf919314\" y=\"83.384979\"/>\n     <use style=\"fill:#1f77b4;stroke:#1f77b4;\" x=\"152.229521\" xlink:href=\"#me2bf919314\" y=\"91.365519\"/>\n     <use style=\"fill:#1f77b4;stroke:#1f77b4;\" x=\"162.837426\" xlink:href=\"#me2bf919314\" y=\"92.673481\"/>\n     <use style=\"fill:#1f77b4;stroke:#1f77b4;\" x=\"113.858275\" xlink:href=\"#me2bf919314\" y=\"87.756402\"/>\n     <use style=\"fill:#1f77b4;stroke:#1f77b4;\" x=\"122.94863\" xlink:href=\"#me2bf919314\" y=\"92.583802\"/>\n     <use style=\"fill:#1f77b4;stroke:#1f77b4;\" x=\"160.600551\" xlink:href=\"#me2bf919314\" y=\"93.091033\"/>\n     <use style=\"fill:#1f77b4;stroke:#1f77b4;\" x=\"124.164603\" xlink:href=\"#me2bf919314\" y=\"85.958129\"/>\n     <use style=\"fill:#1f77b4;stroke:#1f77b4;\" x=\"105.348095\" xlink:href=\"#me2bf919314\" y=\"63.138204\"/>\n     <use style=\"fill:#1f77b4;stroke:#1f77b4;\" x=\"117.214983\" xlink:href=\"#me2bf919314\" y=\"81.824439\"/>\n     <use style=\"fill:#1f77b4;stroke:#1f77b4;\" x=\"133.762184\" xlink:href=\"#me2bf919314\" y=\"100.586591\"/>\n     <use style=\"fill:#1f77b4;stroke:#1f77b4;\" x=\"105.785574\" xlink:href=\"#me2bf919314\" y=\"70.65699\"/>\n     <use style=\"fill:#1f77b4;stroke:#1f77b4;\" x=\"142.336346\" xlink:href=\"#me2bf919314\" y=\"87.262\"/>\n     <use style=\"fill:#1f77b4;stroke:#1f77b4;\" x=\"96.210779\" xlink:href=\"#me2bf919314\" y=\"54.585141\"/>\n     <use style=\"fill:#1f77b4;stroke:#1f77b4;\" x=\"86.926326\" xlink:href=\"#me2bf919314\" y=\"71.378428\"/>\n     <use style=\"fill:#1f77b4;stroke:#1f77b4;\" x=\"148.320395\" xlink:href=\"#me2bf919314\" y=\"90.165565\"/>\n     <use style=\"fill:#1f77b4;stroke:#1f77b4;\" x=\"150.825555\" xlink:href=\"#me2bf919314\" y=\"95.138117\"/>\n     <use style=\"fill:#1f77b4;stroke:#1f77b4;\" x=\"108.614799\" xlink:href=\"#me2bf919314\" y=\"75.957742\"/>\n     <use style=\"fill:#1f77b4;stroke:#1f77b4;\" x=\"165.328104\" xlink:href=\"#me2bf919314\" y=\"110.267633\"/>\n     <use style=\"fill:#1f77b4;stroke:#1f77b4;\" x=\"103.020573\" xlink:href=\"#me2bf919314\" y=\"75.907938\"/>\n     <use style=\"fill:#1f77b4;stroke:#1f77b4;\" x=\"155.638526\" xlink:href=\"#me2bf919314\" y=\"104.686193\"/>\n     <use style=\"fill:#1f77b4;stroke:#1f77b4;\" x=\"79.044014\" xlink:href=\"#me2bf919314\" y=\"66.601348\"/>\n     <use style=\"fill:#1f77b4;stroke:#1f77b4;\" x=\"93.759909\" xlink:href=\"#me2bf919314\" y=\"46.075422\"/>\n     <use style=\"fill:#1f77b4;stroke:#1f77b4;\" x=\"176.501417\" xlink:href=\"#me2bf919314\" y=\"102.033552\"/>\n     <use style=\"fill:#1f77b4;stroke:#1f77b4;\" x=\"144.768276\" xlink:href=\"#me2bf919314\" y=\"103.47211\"/>\n     <use style=\"fill:#1f77b4;stroke:#1f77b4;\" x=\"122.067298\" xlink:href=\"#me2bf919314\" y=\"83.532537\"/>\n     <use style=\"fill:#1f77b4;stroke:#1f77b4;\" x=\"145.782767\" xlink:href=\"#me2bf919314\" y=\"77.034996\"/>\n     <use style=\"fill:#1f77b4;stroke:#1f77b4;\" x=\"93.453138\" xlink:href=\"#me2bf919314\" y=\"55.855484\"/>\n     <use style=\"fill:#1f77b4;stroke:#1f77b4;\" x=\"110.601604\" xlink:href=\"#me2bf919314\" y=\"79.908651\"/>\n     <use style=\"fill:#1f77b4;stroke:#1f77b4;\" x=\"153.605335\" xlink:href=\"#me2bf919314\" y=\"93.187727\"/>\n     <use style=\"fill:#1f77b4;stroke:#1f77b4;\" x=\"105.036715\" xlink:href=\"#me2bf919314\" y=\"64.208759\"/>\n     <use style=\"fill:#1f77b4;stroke:#1f77b4;\" x=\"167.706009\" xlink:href=\"#me2bf919314\" y=\"97.5049\"/>\n     <use style=\"fill:#1f77b4;stroke:#1f77b4;\" x=\"131.516486\" xlink:href=\"#me2bf919314\" y=\"67.393435\"/>\n     <use style=\"fill:#1f77b4;stroke:#1f77b4;\" x=\"138.161288\" xlink:href=\"#me2bf919314\" y=\"69.694426\"/>\n     <use style=\"fill:#1f77b4;stroke:#1f77b4;\" x=\"109.324183\" xlink:href=\"#me2bf919314\" y=\"71.809127\"/>\n     <use style=\"fill:#1f77b4;stroke:#1f77b4;\" x=\"177.029449\" xlink:href=\"#me2bf919314\" y=\"115.180681\"/>\n     <use style=\"fill:#1f77b4;stroke:#1f77b4;\" x=\"117.351943\" xlink:href=\"#me2bf919314\" y=\"72.903954\"/>\n     <use style=\"fill:#1f77b4;stroke:#1f77b4;\" x=\"138.959182\" xlink:href=\"#me2bf919314\" y=\"86.972405\"/>\n     <use style=\"fill:#1f77b4;stroke:#1f77b4;\" x=\"89.369926\" xlink:href=\"#me2bf919314\" y=\"53.009017\"/>\n     <use style=\"fill:#1f77b4;stroke:#1f77b4;\" x=\"119.418291\" xlink:href=\"#me2bf919314\" y=\"84.279386\"/>\n     <use style=\"fill:#1f77b4;stroke:#1f77b4;\" x=\"138.582134\" xlink:href=\"#me2bf919314\" y=\"78.631695\"/>\n     <use style=\"fill:#1f77b4;stroke:#1f77b4;\" x=\"116.204025\" xlink:href=\"#me2bf919314\" y=\"67.540632\"/>\n     <use style=\"fill:#1f77b4;stroke:#1f77b4;\" x=\"138.944614\" xlink:href=\"#me2bf919314\" y=\"91.068936\"/>\n     <use style=\"fill:#1f77b4;stroke:#1f77b4;\" x=\"171.347802\" xlink:href=\"#me2bf919314\" y=\"92.149336\"/>\n     <use style=\"fill:#1f77b4;stroke:#1f77b4;\" x=\"87.868635\" xlink:href=\"#me2bf919314\" y=\"57.97521\"/>\n     <use style=\"fill:#1f77b4;stroke:#1f77b4;\" x=\"120.944406\" xlink:href=\"#me2bf919314\" y=\"76.020265\"/>\n     <use style=\"fill:#1f77b4;stroke:#1f77b4;\" x=\"112.074668\" xlink:href=\"#me2bf919314\" y=\"65.782589\"/>\n     <use style=\"fill:#1f77b4;stroke:#1f77b4;\" x=\"160.379477\" xlink:href=\"#me2bf919314\" y=\"92.451557\"/>\n     <use style=\"fill:#1f77b4;stroke:#1f77b4;\" x=\"145.217629\" xlink:href=\"#me2bf919314\" y=\"83.776944\"/>\n     <use style=\"fill:#1f77b4;stroke:#1f77b4;\" x=\"72.412993\" xlink:href=\"#me2bf919314\" y=\"49.320557\"/>\n     <use style=\"fill:#1f77b4;stroke:#1f77b4;\" x=\"154.877882\" xlink:href=\"#me2bf919314\" y=\"99.941817\"/>\n     <use style=\"fill:#1f77b4;stroke:#1f77b4;\" x=\"120.772031\" xlink:href=\"#me2bf919314\" y=\"84.595901\"/>\n     <use style=\"fill:#1f77b4;stroke:#1f77b4;\" x=\"88.049182\" xlink:href=\"#me2bf919314\" y=\"63.374634\"/>\n     <use style=\"fill:#1f77b4;stroke:#1f77b4;\" x=\"83.301798\" xlink:href=\"#me2bf919314\" y=\"50.743188\"/>\n     <use style=\"fill:#1f77b4;stroke:#1f77b4;\" x=\"181.780328\" xlink:href=\"#me2bf919314\" y=\"82.951238\"/>\n    </g>\n   </g>\n   <g id=\"matplotlib.axis_1\">\n    <g id=\"xtick_1\">\n     <g id=\"line2d_1\">\n      <defs>\n       <path d=\"M 0 0 \nL 0 3.5 \n\" id=\"m4bfc2dcc0e\" style=\"stroke:#000000;stroke-width:0.8;\"/>\n      </defs>\n      <g>\n       <use style=\"stroke:#000000;stroke-width:0.8;\" x=\"72.893065\" xlink:href=\"#m4bfc2dcc0e\" y=\"143.1\"/>\n      </g>\n     </g>\n     <g id=\"text_1\">\n      <!-- −2 -->\n      <g transform=\"translate(65.521971 157.698438)scale(0.1 -0.1)\">\n       <defs>\n        <path d=\"M 678 2272 \nL 4684 2272 \nL 4684 1741 \nL 678 1741 \nL 678 2272 \nz\n\" id=\"DejaVuSans-2212\" transform=\"scale(0.015625)\"/>\n        <path d=\"M 1228 531 \nL 3431 531 \nL 3431 0 \nL 469 0 \nL 469 531 \nQ 828 903 1448 1529 \nQ 2069 2156 2228 2338 \nQ 2531 2678 2651 2914 \nQ 2772 3150 2772 3378 \nQ 2772 3750 2511 3984 \nQ 2250 4219 1831 4219 \nQ 1534 4219 1204 4116 \nQ 875 4013 500 3803 \nL 500 4441 \nQ 881 4594 1212 4672 \nQ 1544 4750 1819 4750 \nQ 2544 4750 2975 4387 \nQ 3406 4025 3406 3419 \nQ 3406 3131 3298 2873 \nQ 3191 2616 2906 2266 \nQ 2828 2175 2409 1742 \nQ 1991 1309 1228 531 \nz\n\" id=\"DejaVuSans-32\" transform=\"scale(0.015625)\"/>\n       </defs>\n       <use xlink:href=\"#DejaVuSans-2212\"/>\n       <use x=\"83.789062\" xlink:href=\"#DejaVuSans-32\"/>\n      </g>\n     </g>\n    </g>\n    <g id=\"xtick_2\">\n     <g id=\"line2d_2\">\n      <g>\n       <use style=\"stroke:#000000;stroke-width:0.8;\" x=\"130.04876\" xlink:href=\"#m4bfc2dcc0e\" y=\"143.1\"/>\n      </g>\n     </g>\n     <g id=\"text_2\">\n      <!-- 0 -->\n      <g transform=\"translate(126.86751 157.698438)scale(0.1 -0.1)\">\n       <defs>\n        <path d=\"M 2034 4250 \nQ 1547 4250 1301 3770 \nQ 1056 3291 1056 2328 \nQ 1056 1369 1301 889 \nQ 1547 409 2034 409 \nQ 2525 409 2770 889 \nQ 3016 1369 3016 2328 \nQ 3016 3291 2770 3770 \nQ 2525 4250 2034 4250 \nz\nM 2034 4750 \nQ 2819 4750 3233 4129 \nQ 3647 3509 3647 2328 \nQ 3647 1150 3233 529 \nQ 2819 -91 2034 -91 \nQ 1250 -91 836 529 \nQ 422 1150 422 2328 \nQ 422 3509 836 4129 \nQ 1250 4750 2034 4750 \nz\n\" id=\"DejaVuSans-30\" transform=\"scale(0.015625)\"/>\n       </defs>\n       <use xlink:href=\"#DejaVuSans-30\"/>\n      </g>\n     </g>\n    </g>\n    <g id=\"xtick_3\">\n     <g id=\"line2d_3\">\n      <g>\n       <use style=\"stroke:#000000;stroke-width:0.8;\" x=\"187.204455\" xlink:href=\"#m4bfc2dcc0e\" y=\"143.1\"/>\n      </g>\n     </g>\n     <g id=\"text_3\">\n      <!-- 2 -->\n      <g transform=\"translate(184.023205 157.698438)scale(0.1 -0.1)\">\n       <use xlink:href=\"#DejaVuSans-32\"/>\n      </g>\n     </g>\n    </g>\n   </g>\n   <g id=\"matplotlib.axis_2\">\n    <g id=\"ytick_1\">\n     <g id=\"line2d_4\">\n      <defs>\n       <path d=\"M 0 0 \nL -3.5 0 \n\" id=\"m51a2e7fa7a\" style=\"stroke:#000000;stroke-width:0.8;\"/>\n      </defs>\n      <g>\n       <use style=\"stroke:#000000;stroke-width:0.8;\" x=\"26.925\" xlink:href=\"#m51a2e7fa7a\" y=\"101.506616\"/>\n      </g>\n     </g>\n     <g id=\"text_4\">\n      <!-- 0 -->\n      <g transform=\"translate(13.5625 105.305835)scale(0.1 -0.1)\">\n       <use xlink:href=\"#DejaVuSans-30\"/>\n      </g>\n     </g>\n    </g>\n    <g id=\"ytick_2\">\n     <g id=\"line2d_5\">\n      <g>\n       <use style=\"stroke:#000000;stroke-width:0.8;\" x=\"26.925\" xlink:href=\"#m51a2e7fa7a\" y=\"57.925664\"/>\n      </g>\n     </g>\n     <g id=\"text_5\">\n      <!-- 10 -->\n      <g transform=\"translate(7.2 61.724883)scale(0.1 -0.1)\">\n       <defs>\n        <path d=\"M 794 531 \nL 1825 531 \nL 1825 4091 \nL 703 3866 \nL 703 4441 \nL 1819 4666 \nL 2450 4666 \nL 2450 531 \nL 3481 531 \nL 3481 0 \nL 794 0 \nL 794 531 \nz\n\" id=\"DejaVuSans-31\" transform=\"scale(0.015625)\"/>\n       </defs>\n       <use xlink:href=\"#DejaVuSans-31\"/>\n       <use x=\"63.623047\" xlink:href=\"#DejaVuSans-30\"/>\n      </g>\n     </g>\n    </g>\n    <g id=\"ytick_3\">\n     <g id=\"line2d_6\">\n      <g>\n       <use style=\"stroke:#000000;stroke-width:0.8;\" x=\"26.925\" xlink:href=\"#m51a2e7fa7a\" y=\"14.344712\"/>\n      </g>\n     </g>\n     <g id=\"text_6\">\n      <!-- 20 -->\n      <g transform=\"translate(7.2 18.143931)scale(0.1 -0.1)\">\n       <use xlink:href=\"#DejaVuSans-32\"/>\n       <use x=\"63.623047\" xlink:href=\"#DejaVuSans-30\"/>\n      </g>\n     </g>\n    </g>\n   </g>\n   <g id=\"patch_3\">\n    <path d=\"M 26.925 143.1 \nL 26.925 7.2 \n\" style=\"fill:none;stroke:#000000;stroke-linecap:square;stroke-linejoin:miter;stroke-width:0.8;\"/>\n   </g>\n   <g id=\"patch_4\">\n    <path d=\"M 222.225 143.1 \nL 222.225 7.2 \n\" style=\"fill:none;stroke:#000000;stroke-linecap:square;stroke-linejoin:miter;stroke-width:0.8;\"/>\n   </g>\n   <g id=\"patch_5\">\n    <path d=\"M 26.925 143.1 \nL 222.225 143.1 \n\" style=\"fill:none;stroke:#000000;stroke-linecap:square;stroke-linejoin:miter;stroke-width:0.8;\"/>\n   </g>\n   <g id=\"patch_6\">\n    <path d=\"M 26.925 7.2 \nL 222.225 7.2 \n\" style=\"fill:none;stroke:#000000;stroke-linecap:square;stroke-linejoin:miter;stroke-width:0.8;\"/>\n   </g>\n  </g>\n </g>\n <defs>\n  <clipPath id=\"p35f8adfd68\">\n   <rect height=\"135.9\" width=\"195.3\" x=\"26.925\" y=\"7.2\"/>\n  </clipPath>\n </defs>\n</svg>\n"
     },
     "metadata": {
      "needs_background": "light"
     },
     "output_type": "display_data"
    }
   ],
   "source": [
    "d2l.set_figsize()\n",
    "# The semicolon is for displaying the plot only\n",
    "d2l.plt.scatter(features[:, (1)].numpy(), labels.numpy(), 1);"
   ],
   "metadata": {
    "collapsed": false,
    "pycharm": {
     "name": "#%%\n"
    }
   }
  },
  {
   "cell_type": "code",
   "execution_count": 38,
   "outputs": [],
   "source": [
    "def data_iter(batch_size, features, labels):\n",
    "    num_examples = len(features)\n",
    "    indices = list(range(num_examples))\n",
    "    # The examples are read at random, in no particular order\n",
    "    random.shuffle(indices)\n",
    "    for i in range(0, num_examples, batch_size):\n",
    "        j = tf.constant(indices[i:min(i + batch_size, num_examples)])\n",
    "        yield tf.gather(features, j), tf.gather(labels, j)"
   ],
   "metadata": {
    "collapsed": false,
    "pycharm": {
     "name": "#%%\n"
    }
   }
  },
  {
   "cell_type": "code",
   "execution_count": 41,
   "outputs": [
    {
     "name": "stdout",
     "output_type": "stream",
     "text": [
      "0\n",
      "1\n",
      "2\n",
      "3\n",
      "4\n",
      "5\n",
      "6\n",
      "7\n",
      "8\n",
      "9\n",
      "10\n",
      "11\n",
      "12\n",
      "13\n",
      "14\n",
      "15\n",
      "16\n",
      "17\n",
      "18\n",
      "19\n",
      "20\n",
      "21\n",
      "22\n",
      "23\n",
      "24\n",
      "25\n",
      "26\n",
      "27\n",
      "28\n",
      "29\n",
      "30\n",
      "31\n",
      "32\n",
      "33\n",
      "34\n",
      "35\n",
      "36\n",
      "37\n",
      "38\n",
      "39\n",
      "40\n",
      "41\n",
      "42\n",
      "43\n",
      "44\n",
      "45\n",
      "46\n",
      "47\n",
      "48\n",
      "49\n",
      "50\n",
      "51\n",
      "52\n",
      "53\n",
      "54\n",
      "55\n",
      "56\n",
      "57\n",
      "58\n",
      "59\n",
      "60\n",
      "61\n",
      "62\n",
      "63\n",
      "64\n",
      "65\n",
      "66\n",
      "67\n",
      "68\n",
      "69\n",
      "70\n",
      "71\n",
      "72\n",
      "73\n",
      "74\n",
      "75\n",
      "76\n",
      "77\n",
      "78\n",
      "79\n",
      "80\n",
      "81\n",
      "82\n",
      "83\n",
      "84\n",
      "85\n",
      "86\n",
      "87\n",
      "88\n",
      "89\n",
      "90\n",
      "91\n",
      "92\n",
      "93\n",
      "94\n",
      "95\n",
      "96\n",
      "97\n",
      "98\n",
      "99\n"
     ]
    }
   ],
   "source": [
    "batch_size = 10\n",
    "i=0\n",
    "for X, y in data_iter(batch_size, features, labels):\n",
    "    # print(X, '\\n', y)\n",
    "    print(i)\n",
    "    i=i+1"
   ],
   "metadata": {
    "collapsed": false,
    "pycharm": {
     "name": "#%%\n"
    }
   }
  },
  {
   "cell_type": "code",
   "execution_count": 42,
   "outputs": [],
   "source": [
    "w = tf.Variable(tf.random.normal(shape=(2, 1), mean=0, stddev=0.01),\n",
    "                trainable=True)\n",
    "b = tf.Variable(tf.zeros(1), trainable=True)"
   ],
   "metadata": {
    "collapsed": false,
    "pycharm": {
     "name": "#%%\n"
    }
   }
  },
  {
   "cell_type": "code",
   "execution_count": 43,
   "outputs": [],
   "source": [
    "def linreg(X, w, b):  #@save\n",
    "    \"\"\"The linear regression model.\"\"\"\n",
    "    return tf.matmul(X, w) + b\n"
   ],
   "metadata": {
    "collapsed": false,
    "pycharm": {
     "name": "#%%\n"
    }
   }
  },
  {
   "cell_type": "code",
   "execution_count": 47,
   "outputs": [],
   "source": [
    "def squared_loss(y_hat, y):  #@save\n",
    "    \"\"\"Squared loss.\"\"\"\n",
    "    return (y_hat - tf.reshape(y, y_hat.shape))**2 / 2\n",
    "\n",
    "\n",
    "de\n",
    "f sgd(params, grads, lr, batch_size):\n",
    "    for param, grad in zip(params, grads):\n",
    "            param.assign_sub(lr * grad / batch_size)"
   ],
   "metadata": {
    "collapsed": false,
    "pycharm": {
     "name": "#%%\n"
    }
   }
  },
  {
   "cell_type": "code",
   "execution_count": 47,
   "outputs": [],
   "source": [
    "fsd\n",
    "\n"
   ],
   "metadata": {
    "collapsed": false,
    "pycharm": {
     "name": "#%%\n"
    }
   }
  },
  {
   "cell_type": "code",
   "execution_count": null,
   "outputs": [],
   "source": [],
   "metadata": {
    "collapsed": false,
    "pycharm": {
     "name": "#%%\n"
    }
   }
  },
  {
   "cell_type": "code",
   "execution_count": null,
   "outputs": [],
   "source": [],
   "metadata": {
    "collapsed": false,
    "pycharm": {
     "name": "#%%\n"
    }
   }
  },
  {
   "cell_type": "code",
   "execution_count": null,
   "outputs": [],
   "source": [],
   "metadata": {
    "collapsed": false,
    "pycharm": {
     "name": "#%%\n"
    }
   }
  },
  {
   "cell_type": "code",
   "execution_count": null,
   "outputs": [],
   "source": [],
   "metadata": {
    "collapsed": false,
    "pycharm": {
     "name": "#%%\n"
    }
   }
  },
  {
   "cell_type": "code",
   "execution_count": null,
   "outputs": [],
   "source": [],
   "metadata": {
    "collapsed": false,
    "pycharm": {
     "name": "#%%\n"
    }
   }
  },
  {
   "cell_type": "code",
   "execution_count": null,
   "outputs": [],
   "source": [],
   "metadata": {
    "collapsed": false,
    "pycharm": {
     "name": "#%%\n"
    }
   }
  },
  {
   "cell_type": "code",
   "execution_count": null,
   "outputs": [],
   "source": [],
   "metadata": {
    "collapsed": false,
    "pycharm": {
     "name": "#%%\n"
    }
   }
  },
  {
   "cell_type": "code",
   "execution_count": null,
   "outputs": [],
   "source": [],
   "metadata": {
    "collapsed": false,
    "pycharm": {
     "name": "#%%\n"
    }
   }
  },
  {
   "cell_type": "code",
   "execution_count": null,
   "outputs": [],
   "source": [],
   "metadata": {
    "collapsed": false,
    "pycharm": {
     "name": "#%%\n"
    }
   }
  },
  {
   "cell_type": "code",
   "execution_count": null,
   "outputs": [],
   "source": [],
   "metadata": {
    "collapsed": false,
    "pycharm": {
     "name": "#%%\n"
    }
   }
  },
  {
   "cell_type": "code",
   "execution_count": null,
   "outputs": [],
   "source": [
    "\n"
   ],
   "metadata": {
    "collapsed": false,
    "pycharm": {
     "name": "#%%\n"
    }
   }
  },
  {
   "cell_type": "code",
   "execution_count": null,
   "outputs": [],
   "source": [],
   "metadata": {
    "collapsed": false,
    "pycharm": {
     "name": "#%%\n"
    }
   }
  },
  {
   "cell_type": "code",
   "execution_count": null,
   "outputs": [],
   "source": [],
   "metadata": {
    "collapsed": false,
    "pycharm": {
     "name": "#%%\n"
    }
   }
  },
  {
   "cell_type": "code",
   "execution_count": null,
   "outputs": [],
   "source": [],
   "metadata": {
    "collapsed": false,
    "pycharm": {
     "name": "#%%\n"
    }
   }
  },
  {
   "cell_type": "code",
   "execution_count": null,
   "outputs": [],
   "source": [],
   "metadata": {
    "collapsed": false,
    "pycharm": {
     "name": "#%%\n"
    }
   }
  },
  {
   "cell_type": "code",
   "execution_count": null,
   "outputs": [],
   "source": [],
   "metadata": {
    "collapsed": false,
    "pycharm": {
     "name": "#%%\n"
    }
   }
  },
  {
   "cell_type": "code",
   "execution_count": null,
   "outputs": [],
   "source": [],
   "metadata": {
    "collapsed": false,
    "pycharm": {
     "name": "#%%\n"
    }
   }
  },
  {
   "cell_type": "code",
   "execution_count": null,
   "outputs": [],
   "source": [],
   "metadata": {
    "collapsed": false,
    "pycharm": {
     "name": "#%%\n"
    }
   }
  },
  {
   "cell_type": "code",
   "execution_count": null,
   "outputs": [],
   "source": [],
   "metadata": {
    "collapsed": false,
    "pycharm": {
     "name": "#%%\n"
    }
   }
  },
  {
   "cell_type": "code",
   "execution_count": null,
   "outputs": [],
   "source": [],
   "metadata": {
    "collapsed": false,
    "pycharm": {
     "name": "#%%\n"
    }
   }
  },
  {
   "cell_type": "code",
   "execution_count": null,
   "outputs": [],
   "source": [],
   "metadata": {
    "collapsed": false,
    "pycharm": {
     "name": "#%%\n"
    }
   }
  },
  {
   "cell_type": "code",
   "execution_count": null,
   "outputs": [],
   "source": [],
   "metadata": {
    "collapsed": false,
    "pycharm": {
     "name": "#%%\n"
    }
   }
  },
  {
   "cell_type": "code",
   "execution_count": null,
   "outputs": [],
   "source": [],
   "metadata": {
    "collapsed": false,
    "pycharm": {
     "name": "#%%\n"
    }
   }
  },
  {
   "cell_type": "code",
   "execution_count": null,
   "outputs": [],
   "source": [],
   "metadata": {
    "collapsed": false,
    "pycharm": {
     "name": "#%%\n"
    }
   }
  },
  {
   "cell_type": "code",
   "execution_count": null,
   "outputs": [],
   "source": [],
   "metadata": {
    "collapsed": false,
    "pycharm": {
     "name": "#%%\n"
    }
   }
  },
  {
   "cell_type": "code",
   "execution_count": null,
   "outputs": [],
   "source": [],
   "metadata": {
    "collapsed": false,
    "pycharm": {
     "name": "#%%\n"
    }
   }
  },
  {
   "cell_type": "code",
   "execution_count": null,
   "outputs": [],
   "source": [],
   "metadata": {
    "collapsed": false,
    "pycharm": {
     "name": "#%%\n"
    }
   }
  },
  {
   "cell_type": "code",
   "execution_count": null,
   "outputs": [],
   "source": [],
   "metadata": {
    "collapsed": false,
    "pycharm": {
     "name": "#%%\n"
    }
   }
  },
  {
   "cell_type": "code",
   "execution_count": null,
   "outputs": [],
   "source": [],
   "metadata": {
    "collapsed": false,
    "pycharm": {
     "name": "#%%\n"
    }
   }
  },
  {
   "cell_type": "code",
   "execution_count": null,
   "outputs": [],
   "source": [],
   "metadata": {
    "collapsed": false,
    "pycharm": {
     "name": "#%%\n"
    }
   }
  },
  {
   "cell_type": "code",
   "execution_count": null,
   "outputs": [],
   "source": [],
   "metadata": {
    "collapsed": false,
    "pycharm": {
     "name": "#%%\n"
    }
   }
  },
  {
   "cell_type": "code",
   "execution_count": null,
   "outputs": [],
   "source": [],
   "metadata": {
    "collapsed": false,
    "pycharm": {
     "name": "#%%\n"
    }
   }
  },
  {
   "cell_type": "code",
   "execution_count": null,
   "outputs": [],
   "source": [],
   "metadata": {
    "collapsed": false,
    "pycharm": {
     "name": "#%%\n"
    }
   }
  },
  {
   "cell_type": "code",
   "execution_count": null,
   "outputs": [],
   "source": [],
   "metadata": {
    "collapsed": false,
    "pycharm": {
     "name": "#%%\n"
    }
   }
  },
  {
   "cell_type": "code",
   "execution_count": null,
   "outputs": [],
   "source": [],
   "metadata": {
    "collapsed": false,
    "pycharm": {
     "name": "#%%\n"
    }
   }
  },
  {
   "cell_type": "code",
   "execution_count": null,
   "outputs": [],
   "source": [],
   "metadata": {
    "collapsed": false,
    "pycharm": {
     "name": "#%%\n"
    }
   }
  },
  {
   "cell_type": "code",
   "execution_count": null,
   "outputs": [],
   "source": [],
   "metadata": {
    "collapsed": false,
    "pycharm": {
     "name": "#%%\n"
    }
   }
  },
  {
   "cell_type": "code",
   "execution_count": null,
   "outputs": [],
   "source": [],
   "metadata": {
    "collapsed": false,
    "pycharm": {
     "name": "#%%\n"
    }
   }
  },
  {
   "cell_type": "code",
   "execution_count": null,
   "outputs": [],
   "source": [],
   "metadata": {
    "collapsed": false,
    "pycharm": {
     "name": "#%%\n"
    }
   }
  },
  {
   "cell_type": "code",
   "execution_count": null,
   "outputs": [],
   "source": [],
   "metadata": {
    "collapsed": false,
    "pycharm": {
     "name": "#%%\n"
    }
   }
  },
  {
   "cell_type": "code",
   "execution_count": null,
   "outputs": [],
   "source": [],
   "metadata": {
    "collapsed": false,
    "pycharm": {
     "name": "#%%\n"
    }
   }
  },
  {
   "cell_type": "code",
   "execution_count": null,
   "outputs": [],
   "source": [],
   "metadata": {
    "collapsed": false,
    "pycharm": {
     "name": "#%%\n"
    }
   }
  },
  {
   "cell_type": "code",
   "execution_count": null,
   "outputs": [],
   "source": [],
   "metadata": {
    "collapsed": false,
    "pycharm": {
     "name": "#%%\n"
    }
   }
  },
  {
   "cell_type": "code",
   "execution_count": null,
   "outputs": [],
   "source": [
    "%"
   ],
   "metadata": {
    "collapsed": false,
    "pycharm": {
     "name": "#%%\n"
    }
   }
  },
  {
   "cell_type": "code",
   "execution_count": null,
   "outputs": [],
   "source": [
    "%\n"
   ],
   "metadata": {
    "collapsed": false,
    "pycharm": {
     "name": "#%%\n"
    }
   }
  },
  {
   "cell_type": "code",
   "execution_count": null,
   "outputs": [],
   "source": [
    "%"
   ],
   "metadata": {
    "collapsed": false,
    "pycharm": {
     "name": "#%%\n"
    }
   }
  },
  {
   "cell_type": "code",
   "execution_count": null,
   "outputs": [],
   "source": [],
   "metadata": {
    "collapsed": false,
    "pycharm": {
     "name": "#%%\n"
    }
   }
  },
  {
   "cell_type": "code",
   "execution_count": null,
   "outputs": [],
   "source": [],
   "metadata": {
    "collapsed": false,
    "pycharm": {
     "name": "#%%\n"
    }
   }
  },
  {
   "cell_type": "code",
   "execution_count": null,
   "outputs": [],
   "source": [],
   "metadata": {
    "collapsed": false,
    "pycharm": {
     "name": "#%%\n"
    }
   }
  },
  {
   "cell_type": "code",
   "execution_count": null,
   "outputs": [],
   "source": [],
   "metadata": {
    "collapsed": false,
    "pycharm": {
     "name": "#%%\n"
    }
   }
  },
  {
   "cell_type": "code",
   "execution_count": null,
   "outputs": [],
   "source": [],
   "metadata": {
    "collapsed": false,
    "pycharm": {
     "name": "#%%\n"
    }
   }
  },
  {
   "cell_type": "code",
   "execution_count": null,
   "outputs": [],
   "source": [],
   "metadata": {
    "collapsed": false,
    "pycharm": {
     "name": "#%%\n"
    }
   }
  },
  {
   "cell_type": "code",
   "execution_count": null,
   "outputs": [],
   "source": [],
   "metadata": {
    "collapsed": false,
    "pycharm": {
     "name": "#%%\n"
    }
   }
  },
  {
   "cell_type": "code",
   "execution_count": null,
   "outputs": [],
   "source": [],
   "metadata": {
    "collapsed": false,
    "pycharm": {
     "name": "#%%\n"
    }
   }
  },
  {
   "cell_type": "code",
   "execution_count": null,
   "outputs": [],
   "source": [],
   "metadata": {
    "collapsed": false,
    "pycharm": {
     "name": "#%%\n"
    }
   }
  },
  {
   "cell_type": "code",
   "execution_count": null,
   "outputs": [],
   "source": [],
   "metadata": {
    "collapsed": false,
    "pycharm": {
     "name": "#%%\n"
    }
   }
  },
  {
   "cell_type": "code",
   "execution_count": null,
   "outputs": [],
   "source": [],
   "metadata": {
    "collapsed": false,
    "pycharm": {
     "name": "#%%\n"
    }
   }
  },
  {
   "cell_type": "code",
   "execution_count": null,
   "outputs": [],
   "source": [],
   "metadata": {
    "collapsed": false,
    "pycharm": {
     "name": "#%%\n"
    }
   }
  },
  {
   "cell_type": "code",
   "execution_count": null,
   "outputs": [],
   "source": [],
   "metadata": {
    "collapsed": false,
    "pycharm": {
     "name": "#%%\n"
    }
   }
  },
  {
   "cell_type": "code",
   "execution_count": null,
   "outputs": [],
   "source": [],
   "metadata": {
    "collapsed": false,
    "pycharm": {
     "name": "#%%\n"
    }
   }
  },
  {
   "cell_type": "code",
   "execution_count": null,
   "outputs": [],
   "source": [],
   "metadata": {
    "collapsed": false,
    "pycharm": {
     "name": "#%%\n"
    }
   }
  }
 ],
 "metadata": {
  "kernelspec": {
   "display_name": "Python 3",
   "language": "python",
   "name": "python3"
  },
  "language_info": {
   "codemirror_mode": {
    "name": "ipython",
    "version": 2
   },
   "file_extension": ".py",
   "mimetype": "text/x-python",
   "name": "python",
   "nbconvert_exporter": "python",
   "pygments_lexer": "ipython2",
   "version": "2.7.6"
  }
 },
 "nbformat": 4,
 "nbformat_minor": 0
}